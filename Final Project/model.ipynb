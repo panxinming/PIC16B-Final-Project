{
 "cells": [
  {
   "cell_type": "code",
   "execution_count": 1,
   "id": "f5802486",
   "metadata": {},
   "outputs": [],
   "source": [
    "#import libraries\n",
    "import numpy as np\n",
    "import pandas as pd\n",
    "import matplotlib.pyplot as plt\n",
    "import seaborn as sns;sns.set()\n",
    "import matplotlib.patches as mpatches \n",
    "\n",
    "from sklearn import preprocessing\n",
    "from sklearn.model_selection import train_test_split\n",
    "from sklearn.svm import SVC\n",
    "from sklearn.metrics import confusion_matrix\n",
    "from sklearn.ensemble import RandomForestClassifier\n",
    "from sklearn import metrics\n",
    "from sklearn.neural_network import MLPClassifier\n",
    "from sklearn.preprocessing import StandardScaler\n",
    "from sklearn.model_selection import cross_val_score\n",
    "import joblib"
   ]
  },
  {
   "cell_type": "code",
   "execution_count": 2,
   "id": "28a1afa7",
   "metadata": {},
   "outputs": [
    {
     "data": {
      "text/html": [
       "<div>\n",
       "<style scoped>\n",
       "    .dataframe tbody tr th:only-of-type {\n",
       "        vertical-align: middle;\n",
       "    }\n",
       "\n",
       "    .dataframe tbody tr th {\n",
       "        vertical-align: top;\n",
       "    }\n",
       "\n",
       "    .dataframe thead th {\n",
       "        text-align: right;\n",
       "    }\n",
       "</style>\n",
       "<table border=\"1\" class=\"dataframe\">\n",
       "  <thead>\n",
       "    <tr style=\"text-align: right;\">\n",
       "      <th></th>\n",
       "      <th>Ob</th>\n",
       "      <th>diagnosis</th>\n",
       "      <th>radius_mean</th>\n",
       "      <th>texture_mean</th>\n",
       "      <th>perimeter_mean</th>\n",
       "      <th>area_mean</th>\n",
       "      <th>smoothness_mean</th>\n",
       "      <th>compactness_mean</th>\n",
       "      <th>concavity_mean</th>\n",
       "      <th>concave.points_mean</th>\n",
       "      <th>...</th>\n",
       "      <th>radius_worst</th>\n",
       "      <th>texture_worst</th>\n",
       "      <th>perimeter_worst</th>\n",
       "      <th>area_worst</th>\n",
       "      <th>smoothness_worst</th>\n",
       "      <th>compactness_worst</th>\n",
       "      <th>concavity_worst</th>\n",
       "      <th>concave.points_worst</th>\n",
       "      <th>symmetry_worst</th>\n",
       "      <th>fractal_dimension_worst</th>\n",
       "    </tr>\n",
       "  </thead>\n",
       "  <tbody>\n",
       "    <tr>\n",
       "      <th>0</th>\n",
       "      <td>842302</td>\n",
       "      <td>M</td>\n",
       "      <td>17.99</td>\n",
       "      <td>10.38</td>\n",
       "      <td>122.80</td>\n",
       "      <td>1001.0</td>\n",
       "      <td>0.11840</td>\n",
       "      <td>0.27760</td>\n",
       "      <td>0.30010</td>\n",
       "      <td>0.14710</td>\n",
       "      <td>...</td>\n",
       "      <td>25.380</td>\n",
       "      <td>17.33</td>\n",
       "      <td>184.60</td>\n",
       "      <td>2019.0</td>\n",
       "      <td>0.16220</td>\n",
       "      <td>0.66560</td>\n",
       "      <td>0.7119</td>\n",
       "      <td>0.2654</td>\n",
       "      <td>0.4601</td>\n",
       "      <td>0.11890</td>\n",
       "    </tr>\n",
       "    <tr>\n",
       "      <th>1</th>\n",
       "      <td>842517</td>\n",
       "      <td>M</td>\n",
       "      <td>20.57</td>\n",
       "      <td>17.77</td>\n",
       "      <td>132.90</td>\n",
       "      <td>1326.0</td>\n",
       "      <td>0.08474</td>\n",
       "      <td>0.07864</td>\n",
       "      <td>0.08690</td>\n",
       "      <td>0.07017</td>\n",
       "      <td>...</td>\n",
       "      <td>24.990</td>\n",
       "      <td>23.41</td>\n",
       "      <td>158.80</td>\n",
       "      <td>1956.0</td>\n",
       "      <td>0.12380</td>\n",
       "      <td>0.18660</td>\n",
       "      <td>0.2416</td>\n",
       "      <td>0.1860</td>\n",
       "      <td>0.2750</td>\n",
       "      <td>0.08902</td>\n",
       "    </tr>\n",
       "    <tr>\n",
       "      <th>2</th>\n",
       "      <td>84300903</td>\n",
       "      <td>M</td>\n",
       "      <td>19.69</td>\n",
       "      <td>21.25</td>\n",
       "      <td>130.00</td>\n",
       "      <td>1203.0</td>\n",
       "      <td>0.10960</td>\n",
       "      <td>0.15990</td>\n",
       "      <td>0.19740</td>\n",
       "      <td>0.12790</td>\n",
       "      <td>...</td>\n",
       "      <td>23.570</td>\n",
       "      <td>25.53</td>\n",
       "      <td>152.50</td>\n",
       "      <td>1709.0</td>\n",
       "      <td>0.14440</td>\n",
       "      <td>0.42450</td>\n",
       "      <td>0.4504</td>\n",
       "      <td>0.2430</td>\n",
       "      <td>0.3613</td>\n",
       "      <td>0.08758</td>\n",
       "    </tr>\n",
       "    <tr>\n",
       "      <th>3</th>\n",
       "      <td>84348301</td>\n",
       "      <td>M</td>\n",
       "      <td>11.42</td>\n",
       "      <td>20.38</td>\n",
       "      <td>77.58</td>\n",
       "      <td>386.1</td>\n",
       "      <td>0.14250</td>\n",
       "      <td>0.28390</td>\n",
       "      <td>0.24140</td>\n",
       "      <td>0.10520</td>\n",
       "      <td>...</td>\n",
       "      <td>14.910</td>\n",
       "      <td>26.50</td>\n",
       "      <td>98.87</td>\n",
       "      <td>567.7</td>\n",
       "      <td>0.20980</td>\n",
       "      <td>0.86630</td>\n",
       "      <td>0.6869</td>\n",
       "      <td>0.2575</td>\n",
       "      <td>0.6638</td>\n",
       "      <td>0.17300</td>\n",
       "    </tr>\n",
       "    <tr>\n",
       "      <th>4</th>\n",
       "      <td>84358402</td>\n",
       "      <td>M</td>\n",
       "      <td>20.29</td>\n",
       "      <td>14.34</td>\n",
       "      <td>135.10</td>\n",
       "      <td>1297.0</td>\n",
       "      <td>0.10030</td>\n",
       "      <td>0.13280</td>\n",
       "      <td>0.19800</td>\n",
       "      <td>0.10430</td>\n",
       "      <td>...</td>\n",
       "      <td>22.540</td>\n",
       "      <td>16.67</td>\n",
       "      <td>152.20</td>\n",
       "      <td>1575.0</td>\n",
       "      <td>0.13740</td>\n",
       "      <td>0.20500</td>\n",
       "      <td>0.4000</td>\n",
       "      <td>0.1625</td>\n",
       "      <td>0.2364</td>\n",
       "      <td>0.07678</td>\n",
       "    </tr>\n",
       "    <tr>\n",
       "      <th>...</th>\n",
       "      <td>...</td>\n",
       "      <td>...</td>\n",
       "      <td>...</td>\n",
       "      <td>...</td>\n",
       "      <td>...</td>\n",
       "      <td>...</td>\n",
       "      <td>...</td>\n",
       "      <td>...</td>\n",
       "      <td>...</td>\n",
       "      <td>...</td>\n",
       "      <td>...</td>\n",
       "      <td>...</td>\n",
       "      <td>...</td>\n",
       "      <td>...</td>\n",
       "      <td>...</td>\n",
       "      <td>...</td>\n",
       "      <td>...</td>\n",
       "      <td>...</td>\n",
       "      <td>...</td>\n",
       "      <td>...</td>\n",
       "      <td>...</td>\n",
       "    </tr>\n",
       "    <tr>\n",
       "      <th>564</th>\n",
       "      <td>926424</td>\n",
       "      <td>M</td>\n",
       "      <td>21.56</td>\n",
       "      <td>22.39</td>\n",
       "      <td>142.00</td>\n",
       "      <td>1479.0</td>\n",
       "      <td>0.11100</td>\n",
       "      <td>0.11590</td>\n",
       "      <td>0.24390</td>\n",
       "      <td>0.13890</td>\n",
       "      <td>...</td>\n",
       "      <td>25.450</td>\n",
       "      <td>26.40</td>\n",
       "      <td>166.10</td>\n",
       "      <td>2027.0</td>\n",
       "      <td>0.14100</td>\n",
       "      <td>0.21130</td>\n",
       "      <td>0.4107</td>\n",
       "      <td>0.2216</td>\n",
       "      <td>0.2060</td>\n",
       "      <td>0.07115</td>\n",
       "    </tr>\n",
       "    <tr>\n",
       "      <th>565</th>\n",
       "      <td>926682</td>\n",
       "      <td>M</td>\n",
       "      <td>20.13</td>\n",
       "      <td>28.25</td>\n",
       "      <td>131.20</td>\n",
       "      <td>1261.0</td>\n",
       "      <td>0.09780</td>\n",
       "      <td>0.10340</td>\n",
       "      <td>0.14400</td>\n",
       "      <td>0.09791</td>\n",
       "      <td>...</td>\n",
       "      <td>23.690</td>\n",
       "      <td>38.25</td>\n",
       "      <td>155.00</td>\n",
       "      <td>1731.0</td>\n",
       "      <td>0.11660</td>\n",
       "      <td>0.19220</td>\n",
       "      <td>0.3215</td>\n",
       "      <td>0.1628</td>\n",
       "      <td>0.2572</td>\n",
       "      <td>0.06637</td>\n",
       "    </tr>\n",
       "    <tr>\n",
       "      <th>566</th>\n",
       "      <td>926954</td>\n",
       "      <td>M</td>\n",
       "      <td>16.60</td>\n",
       "      <td>28.08</td>\n",
       "      <td>108.30</td>\n",
       "      <td>858.1</td>\n",
       "      <td>0.08455</td>\n",
       "      <td>0.10230</td>\n",
       "      <td>0.09251</td>\n",
       "      <td>0.05302</td>\n",
       "      <td>...</td>\n",
       "      <td>18.980</td>\n",
       "      <td>34.12</td>\n",
       "      <td>126.70</td>\n",
       "      <td>1124.0</td>\n",
       "      <td>0.11390</td>\n",
       "      <td>0.30940</td>\n",
       "      <td>0.3403</td>\n",
       "      <td>0.1418</td>\n",
       "      <td>0.2218</td>\n",
       "      <td>0.07820</td>\n",
       "    </tr>\n",
       "    <tr>\n",
       "      <th>567</th>\n",
       "      <td>927241</td>\n",
       "      <td>M</td>\n",
       "      <td>20.60</td>\n",
       "      <td>29.33</td>\n",
       "      <td>140.10</td>\n",
       "      <td>1265.0</td>\n",
       "      <td>0.11780</td>\n",
       "      <td>0.27700</td>\n",
       "      <td>0.35140</td>\n",
       "      <td>0.15200</td>\n",
       "      <td>...</td>\n",
       "      <td>25.740</td>\n",
       "      <td>39.42</td>\n",
       "      <td>184.60</td>\n",
       "      <td>1821.0</td>\n",
       "      <td>0.16500</td>\n",
       "      <td>0.86810</td>\n",
       "      <td>0.9387</td>\n",
       "      <td>0.2650</td>\n",
       "      <td>0.4087</td>\n",
       "      <td>0.12400</td>\n",
       "    </tr>\n",
       "    <tr>\n",
       "      <th>568</th>\n",
       "      <td>92751</td>\n",
       "      <td>B</td>\n",
       "      <td>7.76</td>\n",
       "      <td>24.54</td>\n",
       "      <td>47.92</td>\n",
       "      <td>181.0</td>\n",
       "      <td>0.05263</td>\n",
       "      <td>0.04362</td>\n",
       "      <td>0.00000</td>\n",
       "      <td>0.00000</td>\n",
       "      <td>...</td>\n",
       "      <td>9.456</td>\n",
       "      <td>30.37</td>\n",
       "      <td>59.16</td>\n",
       "      <td>268.6</td>\n",
       "      <td>0.08996</td>\n",
       "      <td>0.06444</td>\n",
       "      <td>0.0000</td>\n",
       "      <td>0.0000</td>\n",
       "      <td>0.2871</td>\n",
       "      <td>0.07039</td>\n",
       "    </tr>\n",
       "  </tbody>\n",
       "</table>\n",
       "<p>569 rows × 32 columns</p>\n",
       "</div>"
      ],
      "text/plain": [
       "           Ob diagnosis  radius_mean  texture_mean  perimeter_mean  area_mean  \\\n",
       "0      842302         M        17.99         10.38          122.80     1001.0   \n",
       "1      842517         M        20.57         17.77          132.90     1326.0   \n",
       "2    84300903         M        19.69         21.25          130.00     1203.0   \n",
       "3    84348301         M        11.42         20.38           77.58      386.1   \n",
       "4    84358402         M        20.29         14.34          135.10     1297.0   \n",
       "..        ...       ...          ...           ...             ...        ...   \n",
       "564    926424         M        21.56         22.39          142.00     1479.0   \n",
       "565    926682         M        20.13         28.25          131.20     1261.0   \n",
       "566    926954         M        16.60         28.08          108.30      858.1   \n",
       "567    927241         M        20.60         29.33          140.10     1265.0   \n",
       "568     92751         B         7.76         24.54           47.92      181.0   \n",
       "\n",
       "     smoothness_mean  compactness_mean  concavity_mean  concave.points_mean  \\\n",
       "0            0.11840           0.27760         0.30010              0.14710   \n",
       "1            0.08474           0.07864         0.08690              0.07017   \n",
       "2            0.10960           0.15990         0.19740              0.12790   \n",
       "3            0.14250           0.28390         0.24140              0.10520   \n",
       "4            0.10030           0.13280         0.19800              0.10430   \n",
       "..               ...               ...             ...                  ...   \n",
       "564          0.11100           0.11590         0.24390              0.13890   \n",
       "565          0.09780           0.10340         0.14400              0.09791   \n",
       "566          0.08455           0.10230         0.09251              0.05302   \n",
       "567          0.11780           0.27700         0.35140              0.15200   \n",
       "568          0.05263           0.04362         0.00000              0.00000   \n",
       "\n",
       "     ...  radius_worst  texture_worst  perimeter_worst  area_worst  \\\n",
       "0    ...        25.380          17.33           184.60      2019.0   \n",
       "1    ...        24.990          23.41           158.80      1956.0   \n",
       "2    ...        23.570          25.53           152.50      1709.0   \n",
       "3    ...        14.910          26.50            98.87       567.7   \n",
       "4    ...        22.540          16.67           152.20      1575.0   \n",
       "..   ...           ...            ...              ...         ...   \n",
       "564  ...        25.450          26.40           166.10      2027.0   \n",
       "565  ...        23.690          38.25           155.00      1731.0   \n",
       "566  ...        18.980          34.12           126.70      1124.0   \n",
       "567  ...        25.740          39.42           184.60      1821.0   \n",
       "568  ...         9.456          30.37            59.16       268.6   \n",
       "\n",
       "     smoothness_worst  compactness_worst  concavity_worst  \\\n",
       "0             0.16220            0.66560           0.7119   \n",
       "1             0.12380            0.18660           0.2416   \n",
       "2             0.14440            0.42450           0.4504   \n",
       "3             0.20980            0.86630           0.6869   \n",
       "4             0.13740            0.20500           0.4000   \n",
       "..                ...                ...              ...   \n",
       "564           0.14100            0.21130           0.4107   \n",
       "565           0.11660            0.19220           0.3215   \n",
       "566           0.11390            0.30940           0.3403   \n",
       "567           0.16500            0.86810           0.9387   \n",
       "568           0.08996            0.06444           0.0000   \n",
       "\n",
       "     concave.points_worst  symmetry_worst  fractal_dimension_worst  \n",
       "0                  0.2654          0.4601                  0.11890  \n",
       "1                  0.1860          0.2750                  0.08902  \n",
       "2                  0.2430          0.3613                  0.08758  \n",
       "3                  0.2575          0.6638                  0.17300  \n",
       "4                  0.1625          0.2364                  0.07678  \n",
       "..                    ...             ...                      ...  \n",
       "564                0.2216          0.2060                  0.07115  \n",
       "565                0.1628          0.2572                  0.06637  \n",
       "566                0.1418          0.2218                  0.07820  \n",
       "567                0.2650          0.4087                  0.12400  \n",
       "568                0.0000          0.2871                  0.07039  \n",
       "\n",
       "[569 rows x 32 columns]"
      ]
     },
     "execution_count": 2,
     "metadata": {},
     "output_type": "execute_result"
    }
   ],
   "source": [
    "df = pd.read_csv(\"wdbc.csv\")\n",
    "df"
   ]
  },
  {
   "cell_type": "markdown",
   "id": "4975b534",
   "metadata": {},
   "source": [
    "There are thirty columns in the table, so in Feature selection, SelectKBest is used to select the best features to reduce data dimension. From the results, the top 10 features are radius_mean, perimeter_mean, area_mean, concavity_mean, concave.points_mean, radius_worst, perimeter_worst, area_worst, concavity_worst and  concave.points_worst.\n",
    "\n",
    "Our models will several feature combinations to train and test the results.\n",
    "\n",
    "(1)cols0: all the 30 feature combinations.\n",
    "\n",
    "(2)cols1: 10 feature combinations using selectKBest.\n",
    "\n",
    "(3)cols2: 5 mean feature combinations:radius_mean,perimeter_mean,area_mean,concave.points_mean and concavity_mean.\n",
    "\n",
    "(4)cols3: 6 features combinations: perimeter_worst,perimeter_mean,area_worst,area_mean,concave.points_mean and concave.points_worst.\n",
    "\n",
    "(5)cols4: 4 features combinations: perimeter_worst,perimeter_mean,area_worst and area_mean.\n",
    "\n",
    "(6)cols5: 4 features combinations: area_worst,area_mean,concave.points_mean and concave.points_worst.\n",
    "\n",
    "(7)cols6: 2 features combinations: area_mean and concave.points_mean."
   ]
  },
  {
   "cell_type": "code",
   "execution_count": 3,
   "id": "10c15cb5",
   "metadata": {},
   "outputs": [],
   "source": [
    "cols0 = df.columns.values.tolist()\n",
    "cols0 = cols0[2:32]\n",
    "cols1 = ['perimeter_worst','perimeter_mean','area_worst','area_mean','concave.points_mean','concave.points_worst',\n",
    "        'radius_worst','radius_mean','concavity_worst','concavity_mean']\n",
    "cols2 = [\"radius_mean\",\"perimeter_mean\",\"area_mean\",'concave.points_mean','concavity_mean']\n",
    "cols3 = ['perimeter_worst','perimeter_mean','area_worst','area_mean','concave.points_mean','concave.points_worst']\n",
    "cols4 = ['perimeter_worst','perimeter_mean','area_worst','area_mean']\n",
    "cols5 = ['area_worst','area_mean','concave.points_mean','concave.points_worst']\n",
    "cols6 = ['area_mean','concave.points_mean']\n",
    "cols =[cols0,cols1,cols2,cols3,cols4,cols5,cols6]"
   ]
  },
  {
   "cell_type": "markdown",
   "id": "db46cd3a",
   "metadata": {},
   "source": [
    "## Clean the data\n",
    "\n",
    "(1)The data type of tag diagnosis is character, \"B\" indicates benign and \"m\" indicates malignant. Use labelencoder to digitize it and encode the tag value as 0,1, so that it can be used as the training tag of the model.\n",
    "\n",
    "(2)Every original data set may have differences in orders in dimension and different magnitudes. If we do not make modifications to them and use the original value directly, this will highlight the role of the features with higher numerical value in the analysis and weaken the role of the features with lower numerical value. To ensure the reliability of our results, we need to standardize the original data. After standardization, every feature has a mean of 0 and a standard deviation of 1."
   ]
  },
  {
   "cell_type": "code",
   "execution_count": 4,
   "id": "dbdf7863",
   "metadata": {},
   "outputs": [],
   "source": [
    "def clean_data(df1):\n",
    "    #df1 = data.loc[:,cols]\n",
    "    encoder = preprocessing.LabelEncoder().fit(df1['diagnosis'])\n",
    "    df1['diagnosis'] = encoder.transform(df1['diagnosis'])\n",
    "    df1 = df1.dropna()\n",
    "    X = df1.drop(['diagnosis'],axis = 1)\n",
    "    y = df1['diagnosis']\n",
    "    #standarization\n",
    "    X_mean=X.mean(axis=0)\n",
    "    X_std=X.std(axis=0)\n",
    "    X= (X-X_mean)/X_std\n",
    "    df2 = pd.concat([y,X],axis=1)\n",
    "    return df2   "
   ]
  },
  {
   "cell_type": "code",
   "execution_count": 5,
   "id": "a64480cc",
   "metadata": {},
   "outputs": [
    {
     "data": {
      "text/html": [
       "<div>\n",
       "<style scoped>\n",
       "    .dataframe tbody tr th:only-of-type {\n",
       "        vertical-align: middle;\n",
       "    }\n",
       "\n",
       "    .dataframe tbody tr th {\n",
       "        vertical-align: top;\n",
       "    }\n",
       "\n",
       "    .dataframe thead th {\n",
       "        text-align: right;\n",
       "    }\n",
       "</style>\n",
       "<table border=\"1\" class=\"dataframe\">\n",
       "  <thead>\n",
       "    <tr style=\"text-align: right;\">\n",
       "      <th></th>\n",
       "      <th>diagnosis</th>\n",
       "      <th>Ob</th>\n",
       "      <th>radius_mean</th>\n",
       "      <th>texture_mean</th>\n",
       "      <th>perimeter_mean</th>\n",
       "      <th>area_mean</th>\n",
       "      <th>smoothness_mean</th>\n",
       "      <th>compactness_mean</th>\n",
       "      <th>concavity_mean</th>\n",
       "      <th>concave.points_mean</th>\n",
       "      <th>...</th>\n",
       "      <th>radius_worst</th>\n",
       "      <th>texture_worst</th>\n",
       "      <th>perimeter_worst</th>\n",
       "      <th>area_worst</th>\n",
       "      <th>smoothness_worst</th>\n",
       "      <th>compactness_worst</th>\n",
       "      <th>concavity_worst</th>\n",
       "      <th>concave.points_worst</th>\n",
       "      <th>symmetry_worst</th>\n",
       "      <th>fractal_dimension_worst</th>\n",
       "    </tr>\n",
       "  </thead>\n",
       "  <tbody>\n",
       "    <tr>\n",
       "      <th>0</th>\n",
       "      <td>1</td>\n",
       "      <td>-0.236197</td>\n",
       "      <td>1.096100</td>\n",
       "      <td>-2.071512</td>\n",
       "      <td>1.268817</td>\n",
       "      <td>0.983510</td>\n",
       "      <td>1.567087</td>\n",
       "      <td>3.280628</td>\n",
       "      <td>2.650542</td>\n",
       "      <td>2.530249</td>\n",
       "      <td>...</td>\n",
       "      <td>1.885031</td>\n",
       "      <td>-1.358098</td>\n",
       "      <td>2.301575</td>\n",
       "      <td>1.999478</td>\n",
       "      <td>1.306537</td>\n",
       "      <td>2.614365</td>\n",
       "      <td>2.107672</td>\n",
       "      <td>2.294058</td>\n",
       "      <td>2.748204</td>\n",
       "      <td>1.935312</td>\n",
       "    </tr>\n",
       "    <tr>\n",
       "      <th>1</th>\n",
       "      <td>1</td>\n",
       "      <td>-0.236196</td>\n",
       "      <td>1.828212</td>\n",
       "      <td>-0.353322</td>\n",
       "      <td>1.684473</td>\n",
       "      <td>1.907030</td>\n",
       "      <td>-0.826235</td>\n",
       "      <td>-0.486643</td>\n",
       "      <td>-0.023825</td>\n",
       "      <td>0.547662</td>\n",
       "      <td>...</td>\n",
       "      <td>1.804340</td>\n",
       "      <td>-0.368879</td>\n",
       "      <td>1.533776</td>\n",
       "      <td>1.888827</td>\n",
       "      <td>-0.375282</td>\n",
       "      <td>-0.430066</td>\n",
       "      <td>-0.146620</td>\n",
       "      <td>1.086129</td>\n",
       "      <td>-0.243675</td>\n",
       "      <td>0.280943</td>\n",
       "    </tr>\n",
       "    <tr>\n",
       "      <th>2</th>\n",
       "      <td>1</td>\n",
       "      <td>0.431362</td>\n",
       "      <td>1.578499</td>\n",
       "      <td>0.455786</td>\n",
       "      <td>1.565126</td>\n",
       "      <td>1.557513</td>\n",
       "      <td>0.941382</td>\n",
       "      <td>1.052000</td>\n",
       "      <td>1.362280</td>\n",
       "      <td>2.035440</td>\n",
       "      <td>...</td>\n",
       "      <td>1.510541</td>\n",
       "      <td>-0.023953</td>\n",
       "      <td>1.346291</td>\n",
       "      <td>1.455004</td>\n",
       "      <td>0.526944</td>\n",
       "      <td>1.081980</td>\n",
       "      <td>0.854222</td>\n",
       "      <td>1.953282</td>\n",
       "      <td>1.151242</td>\n",
       "      <td>0.201214</td>\n",
       "    </tr>\n",
       "    <tr>\n",
       "      <th>3</th>\n",
       "      <td>1</td>\n",
       "      <td>0.431741</td>\n",
       "      <td>-0.768233</td>\n",
       "      <td>0.253509</td>\n",
       "      <td>-0.592166</td>\n",
       "      <td>-0.763792</td>\n",
       "      <td>3.280667</td>\n",
       "      <td>3.399917</td>\n",
       "      <td>1.914213</td>\n",
       "      <td>1.450431</td>\n",
       "      <td>...</td>\n",
       "      <td>-0.281217</td>\n",
       "      <td>0.133866</td>\n",
       "      <td>-0.249720</td>\n",
       "      <td>-0.549538</td>\n",
       "      <td>3.391291</td>\n",
       "      <td>3.889975</td>\n",
       "      <td>1.987839</td>\n",
       "      <td>2.173873</td>\n",
       "      <td>6.040726</td>\n",
       "      <td>4.930672</td>\n",
       "    </tr>\n",
       "    <tr>\n",
       "      <th>4</th>\n",
       "      <td>1</td>\n",
       "      <td>0.431821</td>\n",
       "      <td>1.748758</td>\n",
       "      <td>-1.150804</td>\n",
       "      <td>1.775011</td>\n",
       "      <td>1.824624</td>\n",
       "      <td>0.280125</td>\n",
       "      <td>0.538866</td>\n",
       "      <td>1.369806</td>\n",
       "      <td>1.427237</td>\n",
       "      <td>...</td>\n",
       "      <td>1.297434</td>\n",
       "      <td>-1.465481</td>\n",
       "      <td>1.337363</td>\n",
       "      <td>1.219651</td>\n",
       "      <td>0.220362</td>\n",
       "      <td>-0.313119</td>\n",
       "      <td>0.612640</td>\n",
       "      <td>0.728618</td>\n",
       "      <td>-0.867590</td>\n",
       "      <td>-0.396751</td>\n",
       "    </tr>\n",
       "    <tr>\n",
       "      <th>...</th>\n",
       "      <td>...</td>\n",
       "      <td>...</td>\n",
       "      <td>...</td>\n",
       "      <td>...</td>\n",
       "      <td>...</td>\n",
       "      <td>...</td>\n",
       "      <td>...</td>\n",
       "      <td>...</td>\n",
       "      <td>...</td>\n",
       "      <td>...</td>\n",
       "      <td>...</td>\n",
       "      <td>...</td>\n",
       "      <td>...</td>\n",
       "      <td>...</td>\n",
       "      <td>...</td>\n",
       "      <td>...</td>\n",
       "      <td>...</td>\n",
       "      <td>...</td>\n",
       "      <td>...</td>\n",
       "      <td>...</td>\n",
       "      <td>...</td>\n",
       "    </tr>\n",
       "    <tr>\n",
       "      <th>564</th>\n",
       "      <td>1</td>\n",
       "      <td>-0.235524</td>\n",
       "      <td>2.109139</td>\n",
       "      <td>0.720838</td>\n",
       "      <td>2.058974</td>\n",
       "      <td>2.341795</td>\n",
       "      <td>1.040926</td>\n",
       "      <td>0.218868</td>\n",
       "      <td>1.945573</td>\n",
       "      <td>2.318924</td>\n",
       "      <td>...</td>\n",
       "      <td>1.899514</td>\n",
       "      <td>0.117596</td>\n",
       "      <td>1.751022</td>\n",
       "      <td>2.013529</td>\n",
       "      <td>0.378033</td>\n",
       "      <td>-0.273077</td>\n",
       "      <td>0.663928</td>\n",
       "      <td>1.627719</td>\n",
       "      <td>-1.358963</td>\n",
       "      <td>-0.708467</td>\n",
       "    </tr>\n",
       "    <tr>\n",
       "      <th>565</th>\n",
       "      <td>1</td>\n",
       "      <td>-0.235522</td>\n",
       "      <td>1.703356</td>\n",
       "      <td>2.083301</td>\n",
       "      <td>1.614511</td>\n",
       "      <td>1.722326</td>\n",
       "      <td>0.102368</td>\n",
       "      <td>-0.017817</td>\n",
       "      <td>0.692434</td>\n",
       "      <td>1.262558</td>\n",
       "      <td>...</td>\n",
       "      <td>1.535369</td>\n",
       "      <td>2.045599</td>\n",
       "      <td>1.420690</td>\n",
       "      <td>1.493644</td>\n",
       "      <td>-0.690623</td>\n",
       "      <td>-0.394473</td>\n",
       "      <td>0.236365</td>\n",
       "      <td>0.733182</td>\n",
       "      <td>-0.531387</td>\n",
       "      <td>-0.973122</td>\n",
       "    </tr>\n",
       "    <tr>\n",
       "      <th>566</th>\n",
       "      <td>1</td>\n",
       "      <td>-0.235520</td>\n",
       "      <td>0.701667</td>\n",
       "      <td>2.043775</td>\n",
       "      <td>0.672084</td>\n",
       "      <td>0.577445</td>\n",
       "      <td>-0.839745</td>\n",
       "      <td>-0.038646</td>\n",
       "      <td>0.046547</td>\n",
       "      <td>0.105684</td>\n",
       "      <td>...</td>\n",
       "      <td>0.560868</td>\n",
       "      <td>1.373645</td>\n",
       "      <td>0.578492</td>\n",
       "      <td>0.427529</td>\n",
       "      <td>-0.808876</td>\n",
       "      <td>0.350427</td>\n",
       "      <td>0.326479</td>\n",
       "      <td>0.413705</td>\n",
       "      <td>-1.103578</td>\n",
       "      <td>-0.318129</td>\n",
       "    </tr>\n",
       "    <tr>\n",
       "      <th>567</th>\n",
       "      <td>1</td>\n",
       "      <td>-0.235518</td>\n",
       "      <td>1.836725</td>\n",
       "      <td>2.334403</td>\n",
       "      <td>1.980781</td>\n",
       "      <td>1.733693</td>\n",
       "      <td>1.524426</td>\n",
       "      <td>3.269267</td>\n",
       "      <td>3.294046</td>\n",
       "      <td>2.656528</td>\n",
       "      <td>...</td>\n",
       "      <td>1.959515</td>\n",
       "      <td>2.235958</td>\n",
       "      <td>2.301575</td>\n",
       "      <td>1.651717</td>\n",
       "      <td>1.429169</td>\n",
       "      <td>3.901415</td>\n",
       "      <td>3.194794</td>\n",
       "      <td>2.287972</td>\n",
       "      <td>1.917396</td>\n",
       "      <td>2.217684</td>\n",
       "    </tr>\n",
       "    <tr>\n",
       "      <th>568</th>\n",
       "      <td>0</td>\n",
       "      <td>-0.242193</td>\n",
       "      <td>-1.806811</td>\n",
       "      <td>1.220718</td>\n",
       "      <td>-1.812793</td>\n",
       "      <td>-1.346604</td>\n",
       "      <td>-3.109349</td>\n",
       "      <td>-1.149741</td>\n",
       "      <td>-1.113893</td>\n",
       "      <td>-1.260710</td>\n",
       "      <td>...</td>\n",
       "      <td>-1.409652</td>\n",
       "      <td>0.763518</td>\n",
       "      <td>-1.431475</td>\n",
       "      <td>-1.074867</td>\n",
       "      <td>-1.857384</td>\n",
       "      <td>-1.206491</td>\n",
       "      <td>-1.304683</td>\n",
       "      <td>-1.743529</td>\n",
       "      <td>-0.048096</td>\n",
       "      <td>-0.750546</td>\n",
       "    </tr>\n",
       "  </tbody>\n",
       "</table>\n",
       "<p>569 rows × 32 columns</p>\n",
       "</div>"
      ],
      "text/plain": [
       "     diagnosis        Ob  radius_mean  texture_mean  perimeter_mean  \\\n",
       "0            1 -0.236197     1.096100     -2.071512        1.268817   \n",
       "1            1 -0.236196     1.828212     -0.353322        1.684473   \n",
       "2            1  0.431362     1.578499      0.455786        1.565126   \n",
       "3            1  0.431741    -0.768233      0.253509       -0.592166   \n",
       "4            1  0.431821     1.748758     -1.150804        1.775011   \n",
       "..         ...       ...          ...           ...             ...   \n",
       "564          1 -0.235524     2.109139      0.720838        2.058974   \n",
       "565          1 -0.235522     1.703356      2.083301        1.614511   \n",
       "566          1 -0.235520     0.701667      2.043775        0.672084   \n",
       "567          1 -0.235518     1.836725      2.334403        1.980781   \n",
       "568          0 -0.242193    -1.806811      1.220718       -1.812793   \n",
       "\n",
       "     area_mean  smoothness_mean  compactness_mean  concavity_mean  \\\n",
       "0     0.983510         1.567087          3.280628        2.650542   \n",
       "1     1.907030        -0.826235         -0.486643       -0.023825   \n",
       "2     1.557513         0.941382          1.052000        1.362280   \n",
       "3    -0.763792         3.280667          3.399917        1.914213   \n",
       "4     1.824624         0.280125          0.538866        1.369806   \n",
       "..         ...              ...               ...             ...   \n",
       "564   2.341795         1.040926          0.218868        1.945573   \n",
       "565   1.722326         0.102368         -0.017817        0.692434   \n",
       "566   0.577445        -0.839745         -0.038646        0.046547   \n",
       "567   1.733693         1.524426          3.269267        3.294046   \n",
       "568  -1.346604        -3.109349         -1.149741       -1.113893   \n",
       "\n",
       "     concave.points_mean  ...  radius_worst  texture_worst  perimeter_worst  \\\n",
       "0               2.530249  ...      1.885031      -1.358098         2.301575   \n",
       "1               0.547662  ...      1.804340      -0.368879         1.533776   \n",
       "2               2.035440  ...      1.510541      -0.023953         1.346291   \n",
       "3               1.450431  ...     -0.281217       0.133866        -0.249720   \n",
       "4               1.427237  ...      1.297434      -1.465481         1.337363   \n",
       "..                   ...  ...           ...            ...              ...   \n",
       "564             2.318924  ...      1.899514       0.117596         1.751022   \n",
       "565             1.262558  ...      1.535369       2.045599         1.420690   \n",
       "566             0.105684  ...      0.560868       1.373645         0.578492   \n",
       "567             2.656528  ...      1.959515       2.235958         2.301575   \n",
       "568            -1.260710  ...     -1.409652       0.763518        -1.431475   \n",
       "\n",
       "     area_worst  smoothness_worst  compactness_worst  concavity_worst  \\\n",
       "0      1.999478          1.306537           2.614365         2.107672   \n",
       "1      1.888827         -0.375282          -0.430066        -0.146620   \n",
       "2      1.455004          0.526944           1.081980         0.854222   \n",
       "3     -0.549538          3.391291           3.889975         1.987839   \n",
       "4      1.219651          0.220362          -0.313119         0.612640   \n",
       "..          ...               ...                ...              ...   \n",
       "564    2.013529          0.378033          -0.273077         0.663928   \n",
       "565    1.493644         -0.690623          -0.394473         0.236365   \n",
       "566    0.427529         -0.808876           0.350427         0.326479   \n",
       "567    1.651717          1.429169           3.901415         3.194794   \n",
       "568   -1.074867         -1.857384          -1.206491        -1.304683   \n",
       "\n",
       "     concave.points_worst  symmetry_worst  fractal_dimension_worst  \n",
       "0                2.294058        2.748204                 1.935312  \n",
       "1                1.086129       -0.243675                 0.280943  \n",
       "2                1.953282        1.151242                 0.201214  \n",
       "3                2.173873        6.040726                 4.930672  \n",
       "4                0.728618       -0.867590                -0.396751  \n",
       "..                    ...             ...                      ...  \n",
       "564              1.627719       -1.358963                -0.708467  \n",
       "565              0.733182       -0.531387                -0.973122  \n",
       "566              0.413705       -1.103578                -0.318129  \n",
       "567              2.287972        1.917396                 2.217684  \n",
       "568             -1.743529       -0.048096                -0.750546  \n",
       "\n",
       "[569 rows x 32 columns]"
      ]
     },
     "execution_count": 5,
     "metadata": {},
     "output_type": "execute_result"
    }
   ],
   "source": [
    "dataset = clean_data(df)\n",
    "dataset"
   ]
  },
  {
   "cell_type": "markdown",
   "id": "0988af4b",
   "metadata": {},
   "source": [
    "We separate the dataset into the test data set and the train data set. The train data set takes up 70% of the entire data, and the test data set takes up the rest 30%."
   ]
  },
  {
   "cell_type": "code",
   "execution_count": 6,
   "id": "cdc4da94",
   "metadata": {},
   "outputs": [],
   "source": [
    "train,test=train_test_split(dataset,test_size=.3,random_state=42)\n",
    "\n",
    "X_train=train.drop(['diagnosis'],axis = 1)\n",
    "y_train=train['diagnosis']\n",
    "\n",
    "X_test=test.drop(['diagnosis'],axis = 1)\n",
    "y_test=test['diagnosis']"
   ]
  },
  {
   "cell_type": "code",
   "execution_count": 7,
   "id": "d355d14a",
   "metadata": {},
   "outputs": [
    {
     "data": {
      "text/html": [
       "<div>\n",
       "<style scoped>\n",
       "    .dataframe tbody tr th:only-of-type {\n",
       "        vertical-align: middle;\n",
       "    }\n",
       "\n",
       "    .dataframe tbody tr th {\n",
       "        vertical-align: top;\n",
       "    }\n",
       "\n",
       "    .dataframe thead th {\n",
       "        text-align: right;\n",
       "    }\n",
       "</style>\n",
       "<table border=\"1\" class=\"dataframe\">\n",
       "  <thead>\n",
       "    <tr style=\"text-align: right;\">\n",
       "      <th></th>\n",
       "      <th>area_worst</th>\n",
       "      <th>area_mean</th>\n",
       "      <th>concave.points_mean</th>\n",
       "      <th>concave.points_worst</th>\n",
       "    </tr>\n",
       "  </thead>\n",
       "  <tbody>\n",
       "    <tr>\n",
       "      <th>149</th>\n",
       "      <td>-0.271680</td>\n",
       "      <td>-0.198597</td>\n",
       "      <td>-0.918210</td>\n",
       "      <td>-0.827846</td>\n",
       "    </tr>\n",
       "    <tr>\n",
       "      <th>124</th>\n",
       "      <td>-0.436428</td>\n",
       "      <td>-0.288108</td>\n",
       "      <td>-0.539114</td>\n",
       "      <td>-0.377687</td>\n",
       "    </tr>\n",
       "    <tr>\n",
       "      <th>421</th>\n",
       "      <td>-0.125375</td>\n",
       "      <td>0.003441</td>\n",
       "      <td>0.362882</td>\n",
       "      <td>-0.057905</td>\n",
       "    </tr>\n",
       "    <tr>\n",
       "      <th>195</th>\n",
       "      <td>-0.491753</td>\n",
       "      <td>-0.393531</td>\n",
       "      <td>-0.648126</td>\n",
       "      <td>-0.490721</td>\n",
       "    </tr>\n",
       "    <tr>\n",
       "      <th>545</th>\n",
       "      <td>-0.264831</td>\n",
       "      <td>-0.232128</td>\n",
       "      <td>-0.631117</td>\n",
       "      <td>-0.652133</td>\n",
       "    </tr>\n",
       "    <tr>\n",
       "      <th>...</th>\n",
       "      <td>...</td>\n",
       "      <td>...</td>\n",
       "      <td>...</td>\n",
       "      <td>...</td>\n",
       "    </tr>\n",
       "    <tr>\n",
       "      <th>71</th>\n",
       "      <td>-1.047117</td>\n",
       "      <td>-1.167583</td>\n",
       "      <td>-0.520558</td>\n",
       "      <td>-1.015424</td>\n",
       "    </tr>\n",
       "    <tr>\n",
       "      <th>106</th>\n",
       "      <td>-0.630331</td>\n",
       "      <td>-0.688773</td>\n",
       "      <td>-0.362580</td>\n",
       "      <td>0.109440</td>\n",
       "    </tr>\n",
       "    <tr>\n",
       "      <th>270</th>\n",
       "      <td>-0.344218</td>\n",
       "      <td>-0.063337</td>\n",
       "      <td>-1.099640</td>\n",
       "      <td>-1.236472</td>\n",
       "    </tr>\n",
       "    <tr>\n",
       "      <th>435</th>\n",
       "      <td>-0.019817</td>\n",
       "      <td>-0.157394</td>\n",
       "      <td>0.404889</td>\n",
       "      <td>1.035925</td>\n",
       "    </tr>\n",
       "    <tr>\n",
       "      <th>102</th>\n",
       "      <td>-0.584489</td>\n",
       "      <td>-0.557491</td>\n",
       "      <td>-0.804558</td>\n",
       "      <td>-0.613035</td>\n",
       "    </tr>\n",
       "  </tbody>\n",
       "</table>\n",
       "<p>398 rows × 4 columns</p>\n",
       "</div>"
      ],
      "text/plain": [
       "     area_worst  area_mean  concave.points_mean  concave.points_worst\n",
       "149   -0.271680  -0.198597            -0.918210             -0.827846\n",
       "124   -0.436428  -0.288108            -0.539114             -0.377687\n",
       "421   -0.125375   0.003441             0.362882             -0.057905\n",
       "195   -0.491753  -0.393531            -0.648126             -0.490721\n",
       "545   -0.264831  -0.232128            -0.631117             -0.652133\n",
       "..          ...        ...                  ...                   ...\n",
       "71    -1.047117  -1.167583            -0.520558             -1.015424\n",
       "106   -0.630331  -0.688773            -0.362580              0.109440\n",
       "270   -0.344218  -0.063337            -1.099640             -1.236472\n",
       "435   -0.019817  -0.157394             0.404889              1.035925\n",
       "102   -0.584489  -0.557491            -0.804558             -0.613035\n",
       "\n",
       "[398 rows x 4 columns]"
      ]
     },
     "execution_count": 7,
     "metadata": {},
     "output_type": "execute_result"
    }
   ],
   "source": [
    "X_train[cols5]"
   ]
  },
  {
   "cell_type": "code",
   "execution_count": 112,
   "id": "272c4593",
   "metadata": {},
   "outputs": [
    {
     "data": {
      "text/html": [
       "<div>\n",
       "<style scoped>\n",
       "    .dataframe tbody tr th:only-of-type {\n",
       "        vertical-align: middle;\n",
       "    }\n",
       "\n",
       "    .dataframe tbody tr th {\n",
       "        vertical-align: top;\n",
       "    }\n",
       "\n",
       "    .dataframe thead th {\n",
       "        text-align: right;\n",
       "    }\n",
       "</style>\n",
       "<table border=\"1\" class=\"dataframe\">\n",
       "  <thead>\n",
       "    <tr style=\"text-align: right;\">\n",
       "      <th></th>\n",
       "      <th>area_worst</th>\n",
       "      <th>area_mean</th>\n",
       "      <th>concave.points_mean</th>\n",
       "      <th>concave.points_worst</th>\n",
       "    </tr>\n",
       "  </thead>\n",
       "  <tbody>\n",
       "    <tr>\n",
       "      <th>204</th>\n",
       "      <td>-0.355986</td>\n",
       "      <td>-0.491566</td>\n",
       "      <td>-0.275989</td>\n",
       "      <td>-0.199388</td>\n",
       "    </tr>\n",
       "    <tr>\n",
       "      <th>70</th>\n",
       "      <td>1.730754</td>\n",
       "      <td>1.350076</td>\n",
       "      <td>0.788366</td>\n",
       "      <td>0.978115</td>\n",
       "    </tr>\n",
       "    <tr>\n",
       "      <th>131</th>\n",
       "      <td>0.483733</td>\n",
       "      <td>0.267142</td>\n",
       "      <td>0.823415</td>\n",
       "      <td>0.559752</td>\n",
       "    </tr>\n",
       "    <tr>\n",
       "      <th>431</th>\n",
       "      <td>-0.640693</td>\n",
       "      <td>-0.531633</td>\n",
       "      <td>-0.539371</td>\n",
       "      <td>-0.622315</td>\n",
       "    </tr>\n",
       "    <tr>\n",
       "      <th>540</th>\n",
       "      <td>-0.742562</td>\n",
       "      <td>-0.716053</td>\n",
       "      <td>-0.592203</td>\n",
       "      <td>-0.691079</td>\n",
       "    </tr>\n",
       "    <tr>\n",
       "      <th>...</th>\n",
       "      <td>...</td>\n",
       "      <td>...</td>\n",
       "      <td>...</td>\n",
       "      <td>...</td>\n",
       "    </tr>\n",
       "    <tr>\n",
       "      <th>69</th>\n",
       "      <td>-0.572019</td>\n",
       "      <td>-0.433029</td>\n",
       "      <td>-0.522620</td>\n",
       "      <td>-0.848688</td>\n",
       "    </tr>\n",
       "    <tr>\n",
       "      <th>542</th>\n",
       "      <td>-0.095165</td>\n",
       "      <td>0.038961</td>\n",
       "      <td>-0.480613</td>\n",
       "      <td>-0.077682</td>\n",
       "    </tr>\n",
       "    <tr>\n",
       "      <th>176</th>\n",
       "      <td>-0.861293</td>\n",
       "      <td>-1.001634</td>\n",
       "      <td>-0.303049</td>\n",
       "      <td>-0.235899</td>\n",
       "    </tr>\n",
       "    <tr>\n",
       "      <th>501</th>\n",
       "      <td>-0.162610</td>\n",
       "      <td>-0.167624</td>\n",
       "      <td>0.481172</td>\n",
       "      <td>0.570401</td>\n",
       "    </tr>\n",
       "    <tr>\n",
       "      <th>247</th>\n",
       "      <td>-0.424133</td>\n",
       "      <td>-0.405466</td>\n",
       "      <td>-0.235012</td>\n",
       "      <td>0.631254</td>\n",
       "    </tr>\n",
       "  </tbody>\n",
       "</table>\n",
       "<p>171 rows × 4 columns</p>\n",
       "</div>"
      ],
      "text/plain": [
       "     area_worst  area_mean  concave.points_mean  concave.points_worst\n",
       "204   -0.355986  -0.491566            -0.275989             -0.199388\n",
       "70     1.730754   1.350076             0.788366              0.978115\n",
       "131    0.483733   0.267142             0.823415              0.559752\n",
       "431   -0.640693  -0.531633            -0.539371             -0.622315\n",
       "540   -0.742562  -0.716053            -0.592203             -0.691079\n",
       "..          ...        ...                  ...                   ...\n",
       "69    -0.572019  -0.433029            -0.522620             -0.848688\n",
       "542   -0.095165   0.038961            -0.480613             -0.077682\n",
       "176   -0.861293  -1.001634            -0.303049             -0.235899\n",
       "501   -0.162610  -0.167624             0.481172              0.570401\n",
       "247   -0.424133  -0.405466            -0.235012              0.631254\n",
       "\n",
       "[171 rows x 4 columns]"
      ]
     },
     "execution_count": 112,
     "metadata": {},
     "output_type": "execute_result"
    }
   ],
   "source": [
    "X_test[cols5]"
   ]
  },
  {
   "cell_type": "markdown",
   "id": "20947a59",
   "metadata": {},
   "source": [
    "## General functions\n",
    "\n",
    "plot_confusionmatrix：plots the confusion matrix of a classifier\n",
    "\n",
    "check_column_score：sorts the training average accuracy of all the column combinations by cross validation, then show the top n column combinations and their train score and test score. "
   ]
  },
  {
   "cell_type": "code",
   "execution_count": 8,
   "id": "d927b572",
   "metadata": {},
   "outputs": [],
   "source": [
    "def plot_confusionmatrix(model,Xt,yt):\n",
    "    \"\"\"\n",
    "    Plots the confusion matrix of a classifier\n",
    "    model:trainded classifiers\n",
    "    Xt:test data\n",
    "    yt:the true value of test \n",
    "    \"\"\"\n",
    "    y_model = model.predict(Xt) #the predicted value of test\n",
    "    mat = confusion_matrix(yt,y_model) #compare the true value and the predicted value\n",
    "    mat_df = pd.DataFrame(mat)\n",
    "    #plot the confusion matrix\n",
    "    sns.heatmap(mat,square = True,annot= True, fmt = 'd', cmap=\"YlGnBu\", cbar = False)\n",
    "    plt.xlabel(\"Predicted value\")\n",
    "    plt.ylabel(\"True value\")    \n",
    "    plt.title(\"confusion matrix\")\n",
    "    \n",
    "def check_column_score(clf):\n",
    "    \"\"\"\n",
    "    show the top n column combinations and their training score and testing score.\n",
    "    clf:trained classifiers     \n",
    "    \"\"\"\n",
    "    D = {}\n",
    "    #get the training average accuracy of all the column combinations by cross_validation\n",
    "    for i in range(len(cols)):\n",
    "        col = cols[i]\n",
    "        D[i] = cross_val_score(clf,X_train[col],y_train,cv=5).mean()\n",
    "    L = list(D.items())\n",
    "    #sort the training accuracy\n",
    "    L.sort(key = lambda x:x[1],reverse = True)\n",
    "    #get the top n column combinations\n",
    "    best = L[0:7]\n",
    "    for key,value in best:\n",
    "        print(str(cols[key])+\":\")\n",
    "        col = cols[key]\n",
    "        clf.fit(X_train[col],y_train)\n",
    "        j = clf.score(X_test[col],y_test).round(3)\n",
    "        print(\" Train score is:\"+str(np.round(value,3)) + \" --- Test score is:\"+ str(j))    "
   ]
  },
  {
   "cell_type": "markdown",
   "id": "606e8b4c",
   "metadata": {},
   "source": [
    "## (a). **Logistic Regression**"
   ]
  },
  {
   "cell_type": "markdown",
   "id": "1c124fcb",
   "metadata": {},
   "source": [
    "We build a Logistic Regression Model and use all the possible feature combinations of this model to do the training and testing. We calculate the training and testing accuracies and order them by training accuracy."
   ]
  },
  {
   "cell_type": "code",
   "execution_count": 10,
   "id": "602a2afc",
   "metadata": {
    "scrolled": true
   },
   "outputs": [
    {
     "name": "stdout",
     "output_type": "stream",
     "text": [
      "['radius_mean', 'texture_mean', 'perimeter_mean', 'area_mean', 'smoothness_mean', 'compactness_mean', 'concavity_mean', 'concave.points_mean', 'symmetry_mean', 'fractal_dimension_mean', 'radius_se', 'texture_se', 'perimeter_se', 'area_se', 'smoothness_se', 'compactness_se', 'concavity_se', 'concave.points_se', 'symmetry_se', 'fractal_dimension_se', 'radius_worst', 'texture_worst', 'perimeter_worst', 'area_worst', 'smoothness_worst', 'compactness_worst', 'concavity_worst', 'concave.points_worst', 'symmetry_worst', 'fractal_dimension_worst']:\n",
      " Train score is:0.975 --- Test score is:0.982\n",
      "['perimeter_worst', 'perimeter_mean', 'area_worst', 'area_mean', 'concave.points_mean', 'concave.points_worst', 'radius_worst', 'radius_mean', 'concavity_worst', 'concavity_mean']:\n",
      " Train score is:0.947 --- Test score is:0.965\n",
      "['perimeter_worst', 'perimeter_mean', 'area_worst', 'area_mean', 'concave.points_mean', 'concave.points_worst']:\n",
      " Train score is:0.937 --- Test score is:0.965\n",
      "['area_worst', 'area_mean', 'concave.points_mean', 'concave.points_worst']:\n",
      " Train score is:0.937 --- Test score is:0.959\n",
      "['area_mean', 'concave.points_mean']:\n",
      " Train score is:0.912 --- Test score is:0.906\n",
      "['radius_mean', 'perimeter_mean', 'area_mean', 'concave.points_mean', 'concavity_mean']:\n",
      " Train score is:0.91 --- Test score is:0.918\n",
      "['perimeter_worst', 'perimeter_mean', 'area_worst', 'area_mean']:\n",
      " Train score is:0.904 --- Test score is:0.953\n"
     ]
    }
   ],
   "source": [
    "from sklearn.linear_model import LogisticRegression\n",
    "LR = LogisticRegression()\n",
    "check_column_score(LR)"
   ]
  },
  {
   "cell_type": "markdown",
   "id": "10eec1c1",
   "metadata": {},
   "source": [
    "We choose the features in cols5 and train the model based on those features. We also test the accuracy on the testing data set and use the function plot_confusionmatrix to display the confusion matrix."
   ]
  },
  {
   "cell_type": "code",
   "execution_count": 11,
   "id": "ed39bae1",
   "metadata": {},
   "outputs": [
    {
     "name": "stdout",
     "output_type": "stream",
     "text": [
      "0.9588235294117649\n"
     ]
    },
    {
     "data": {
      "image/png": "[encoded data removed]",
      "text/plain": [
       "<Figure size 432x288 with 1 Axes>"
      ]
     },
     "metadata": {},
     "output_type": "display_data"
    }
   ],
   "source": [
    "LR.fit(X_train[cols5], y_train)\n",
    "cv_score_test = cross_val_score(LR, X_test[cols5], y_test, cv=10).mean()\n",
    "print(cv_score_test)\n",
    "plot_confusionmatrix(LR,X_test[cols5],y_test)"
   ]
  },
  {
   "cell_type": "markdown",
   "id": "d9b9fed7",
   "metadata": {},
   "source": [
    "We store our trained linear regression model in .\\models\\LR.m and use it in webapp."
   ]
  },
  {
   "cell_type": "code",
   "execution_count": 12,
   "id": "0fe762ff",
   "metadata": {},
   "outputs": [
    {
     "data": {
      "text/plain": [
       "['.\\\\models\\\\LR.m']"
      ]
     },
     "execution_count": 12,
     "metadata": {},
     "output_type": "execute_result"
    }
   ],
   "source": [
    "joblib.dump(LR, \".\\\\models\\\\LR.m\") "
   ]
  },
  {
   "cell_type": "markdown",
   "id": "c6903d22",
   "metadata": {},
   "source": [
    "## (b). **Decision Tree**"
   ]
  },
  {
   "cell_type": "markdown",
   "id": "f96cc373",
   "metadata": {},
   "source": [
    "We build a Decision Tree Model and use all the possible feature combinations of this model to do the training and testing. We calculate the training and testing accuracies and order them by training accuracy."
   ]
  },
  {
   "cell_type": "code",
   "execution_count": 13,
   "id": "6c779860",
   "metadata": {
    "scrolled": true
   },
   "outputs": [
    {
     "name": "stdout",
     "output_type": "stream",
     "text": [
      "['radius_mean', 'texture_mean', 'perimeter_mean', 'area_mean', 'smoothness_mean', 'compactness_mean', 'concavity_mean', 'concave.points_mean', 'symmetry_mean', 'fractal_dimension_mean', 'radius_se', 'texture_se', 'perimeter_se', 'area_se', 'smoothness_se', 'compactness_se', 'concavity_se', 'concave.points_se', 'symmetry_se', 'fractal_dimension_se', 'radius_worst', 'texture_worst', 'perimeter_worst', 'area_worst', 'smoothness_worst', 'compactness_worst', 'concavity_worst', 'concave.points_worst', 'symmetry_worst', 'fractal_dimension_worst']:\n",
      " Train score is:0.932 --- Test score is:0.953\n",
      "['area_worst', 'area_mean', 'concave.points_mean', 'concave.points_worst']:\n",
      " Train score is:0.922 --- Test score is:0.947\n",
      "['perimeter_worst', 'perimeter_mean', 'area_worst', 'area_mean', 'concave.points_mean', 'concave.points_worst']:\n",
      " Train score is:0.92 --- Test score is:0.953\n",
      "['perimeter_worst', 'perimeter_mean', 'area_worst', 'area_mean', 'concave.points_mean', 'concave.points_worst', 'radius_worst', 'radius_mean', 'concavity_worst', 'concavity_mean']:\n",
      " Train score is:0.912 --- Test score is:0.947\n",
      "['perimeter_worst', 'perimeter_mean', 'area_worst', 'area_mean']:\n",
      " Train score is:0.912 --- Test score is:0.924\n",
      "['area_mean', 'concave.points_mean']:\n",
      " Train score is:0.895 --- Test score is:0.93\n",
      "['radius_mean', 'perimeter_mean', 'area_mean', 'concave.points_mean', 'concavity_mean']:\n",
      " Train score is:0.887 --- Test score is:0.918\n"
     ]
    }
   ],
   "source": [
    "from sklearn.tree import DecisionTreeClassifier\n",
    "DT = DecisionTreeClassifier(max_depth = 12, criterion = 'entropy')\n",
    "check_column_score(DT)"
   ]
  },
  {
   "cell_type": "markdown",
   "id": "d655c109",
   "metadata": {},
   "source": [
    "We choose the features in cols5 and train the model based on those features. We also test the accuracy on the testing data set and use the function plot_confusionmatrix to display the confusion matrix."
   ]
  },
  {
   "cell_type": "code",
   "execution_count": 14,
   "id": "cb2de493",
   "metadata": {},
   "outputs": [
    {
     "name": "stdout",
     "output_type": "stream",
     "text": [
      "0.9238562091503268\n"
     ]
    },
    {
     "data": {
      "image/png": "[encoded data removed]",
      "text/plain": [
       "<Figure size 432x288 with 1 Axes>"
      ]
     },
     "metadata": {},
     "output_type": "display_data"
    }
   ],
   "source": [
    "DT.fit(X_train[cols5], y_train)\n",
    "cv_score_test = cross_val_score(DT, X_test[cols5], y_test, cv=10).mean()\n",
    "print(cv_score_test)\n",
    "plot_confusionmatrix(DT,X_test[cols5],y_test)"
   ]
  },
  {
   "cell_type": "markdown",
   "id": "a580b2e8",
   "metadata": {},
   "source": [
    "We store our trained Decision Tree model in models\\DT.m and use it in webapp."
   ]
  },
  {
   "cell_type": "code",
   "execution_count": 15,
   "id": "d2893010",
   "metadata": {},
   "outputs": [
    {
     "data": {
      "text/plain": [
       "['.\\\\models\\\\DT.m']"
      ]
     },
     "execution_count": 15,
     "metadata": {},
     "output_type": "execute_result"
    }
   ],
   "source": [
    "joblib.dump(DT, \".\\\\models\\\\DT.m\") "
   ]
  },
  {
   "cell_type": "markdown",
   "id": "ae77124a",
   "metadata": {},
   "source": [
    "## (c). **Neural Networks**"
   ]
  },
  {
   "cell_type": "markdown",
   "id": "8c91c866",
   "metadata": {},
   "source": [
    "We build a Multilayer Perceptron Model and use all the possible feature combinations of this model to do the training and testing. We calculate the training and testing accuracies and order them by training accuracy."
   ]
  },
  {
   "cell_type": "code",
   "execution_count": 15,
   "id": "d6252c63",
   "metadata": {},
   "outputs": [
    {
     "name": "stdout",
     "output_type": "stream",
     "text": [
      "['radius_mean', 'texture_mean', 'perimeter_mean', 'area_mean', 'smoothness_mean', 'compactness_mean', 'concavity_mean', 'concave.points_mean', 'symmetry_mean', 'fractal_dimension_mean', 'radius_se', 'texture_se', 'perimeter_se', 'area_se', 'smoothness_se', 'compactness_se', 'concavity_se', 'concave.points_se', 'symmetry_se', 'fractal_dimension_se', 'radius_worst', 'texture_worst', 'perimeter_worst', 'area_worst', 'smoothness_worst', 'compactness_worst', 'concavity_worst', 'concave.points_worst', 'symmetry_worst', 'fractal_dimension_worst']:\n",
      " Train score is:0.977 --- Test score is:0.982\n",
      "['area_worst', 'area_mean', 'concave.points_mean', 'concave.points_worst']:\n",
      " Train score is:0.942 --- Test score is:0.971\n",
      "['perimeter_worst', 'perimeter_mean', 'area_worst', 'area_mean', 'concave.points_mean', 'concave.points_worst', 'radius_worst', 'radius_mean', 'concavity_worst', 'concavity_mean']:\n",
      " Train score is:0.932 --- Test score is:0.965\n",
      "['perimeter_worst', 'perimeter_mean', 'area_worst', 'area_mean', 'concave.points_mean', 'concave.points_worst']:\n",
      " Train score is:0.932 --- Test score is:0.959\n",
      "['radius_mean', 'perimeter_mean', 'area_mean', 'concave.points_mean', 'concavity_mean']:\n",
      " Train score is:0.922 --- Test score is:0.959\n",
      "['perimeter_worst', 'perimeter_mean', 'area_worst', 'area_mean']:\n",
      " Train score is:0.92 --- Test score is:0.959\n",
      "['area_mean', 'concave.points_mean']:\n",
      " Train score is:0.917 --- Test score is:0.906\n"
     ]
    }
   ],
   "source": [
    "MLP = MLPClassifier(solver='adam', activation = 'relu', alpha=1e-5,max_iter=3000,\n",
    "                     hidden_layer_sizes= (18,18,18),random_state=1)\n",
    "\n",
    "check_column_score(MLP)"
   ]
  },
  {
   "cell_type": "markdown",
   "id": "4ef6d2d7",
   "metadata": {},
   "source": [
    "We choose the features in cols5 and train the model based on those features. We also test the accuracy on the testing data set and use the function plot_confusionmatrix to display the confusion matrix."
   ]
  },
  {
   "cell_type": "code",
   "execution_count": 16,
   "id": "7eec9166",
   "metadata": {},
   "outputs": [
    {
     "name": "stdout",
     "output_type": "stream",
     "text": [
      "0.9591503267973855\n"
     ]
    },
    {
     "data": {
      "image/png": "[encoded data removed]",
      "text/plain": [
       "<Figure size 432x288 with 1 Axes>"
      ]
     },
     "metadata": {},
     "output_type": "display_data"
    }
   ],
   "source": [
    "MLP.fit(X_train[cols5], y_train)\n",
    "cv_score_test = cross_val_score(MLP, X_test[cols5], y_test, cv=10).mean()\n",
    "print(cv_score_test)\n",
    "plot_confusionmatrix(MLP,X_test[cols5],y_test)"
   ]
  },
  {
   "cell_type": "markdown",
   "id": "4f8dd318",
   "metadata": {},
   "source": [
    "We store our trained Multilayer Perceptron model in models\\MLP.m and use it in webapp."
   ]
  },
  {
   "cell_type": "code",
   "execution_count": 17,
   "id": "b4a5af57",
   "metadata": {},
   "outputs": [
    {
     "data": {
      "text/plain": [
       "['.\\\\models\\\\MLP.m']"
      ]
     },
     "execution_count": 17,
     "metadata": {},
     "output_type": "execute_result"
    }
   ],
   "source": [
    "joblib.dump(MLP, \".\\\\models\\\\MLP.m\") "
   ]
  },
  {
   "cell_type": "markdown",
   "id": "d830f178",
   "metadata": {},
   "source": [
    "## (d). **Random Forest**"
   ]
  },
  {
   "cell_type": "markdown",
   "id": "ac66b809",
   "metadata": {},
   "source": [
    "We build a Random Forest Model and use all the possible feature combinations of this model to do the training and testing. We calculate the training and testing accuracies and order them by training accuracy."
   ]
  },
  {
   "cell_type": "code",
   "execution_count": 18,
   "id": "0f8925fc",
   "metadata": {},
   "outputs": [
    {
     "name": "stdout",
     "output_type": "stream",
     "text": [
      "['radius_mean', 'texture_mean', 'perimeter_mean', 'area_mean', 'smoothness_mean', 'compactness_mean', 'concavity_mean', 'concave.points_mean', 'symmetry_mean', 'fractal_dimension_mean', 'radius_se', 'texture_se', 'perimeter_se', 'area_se', 'smoothness_se', 'compactness_se', 'concavity_se', 'concave.points_se', 'symmetry_se', 'fractal_dimension_se', 'radius_worst', 'texture_worst', 'perimeter_worst', 'area_worst', 'smoothness_worst', 'compactness_worst', 'concavity_worst', 'concave.points_worst', 'symmetry_worst', 'fractal_dimension_worst']:\n",
      " Train score is:0.955 --- Test score is:0.965\n",
      "['perimeter_worst', 'perimeter_mean', 'area_worst', 'area_mean', 'concave.points_mean', 'concave.points_worst', 'radius_worst', 'radius_mean', 'concavity_worst', 'concavity_mean']:\n",
      " Train score is:0.942 --- Test score is:0.953\n",
      "['area_worst', 'area_mean', 'concave.points_mean', 'concave.points_worst']:\n",
      " Train score is:0.937 --- Test score is:0.965\n",
      "['perimeter_worst', 'perimeter_mean', 'area_worst', 'area_mean', 'concave.points_mean', 'concave.points_worst']:\n",
      " Train score is:0.935 --- Test score is:0.959\n",
      "['perimeter_worst', 'perimeter_mean', 'area_worst', 'area_mean']:\n",
      " Train score is:0.925 --- Test score is:0.953\n",
      "['radius_mean', 'perimeter_mean', 'area_mean', 'concave.points_mean', 'concavity_mean']:\n",
      " Train score is:0.922 --- Test score is:0.924\n",
      "['area_mean', 'concave.points_mean']:\n",
      " Train score is:0.922 --- Test score is:0.924\n"
     ]
    }
   ],
   "source": [
    "from sklearn.ensemble import RandomForestClassifier\n",
    "from sklearn.metrics import accuracy_score\n",
    "RF = RandomForestClassifier(n_estimators=100)\n",
    "check_column_score(RF)"
   ]
  },
  {
   "cell_type": "markdown",
   "id": "f20b2566",
   "metadata": {},
   "source": [
    "We choose the features in cols5 and train the model based on those features. We also test the accuracy on the testing data set and use the function plot_confusionmatrix to display the confusion matrix."
   ]
  },
  {
   "cell_type": "code",
   "execution_count": 19,
   "id": "202a9821",
   "metadata": {},
   "outputs": [
    {
     "name": "stdout",
     "output_type": "stream",
     "text": [
      "0.9529411764705884\n"
     ]
    },
    {
     "data": {
      "image/png": "[encoded data removed]",
      "text/plain": [
       "<Figure size 432x288 with 1 Axes>"
      ]
     },
     "metadata": {},
     "output_type": "display_data"
    }
   ],
   "source": [
    "RF.fit(X_train[cols5], y_train)\n",
    "cv_score_test = cross_val_score(RF, X_test[cols5], y_test, cv=10).mean()\n",
    "print(cv_score_test)\n",
    "plot_confusionmatrix(RF,X_test[cols5],y_test)"
   ]
  },
  {
   "cell_type": "markdown",
   "id": "96a05611",
   "metadata": {},
   "source": [
    "We store our trained Random Forest model in models\\RF.m and use it in webapp."
   ]
  },
  {
   "cell_type": "code",
   "execution_count": 20,
   "id": "572ab119",
   "metadata": {},
   "outputs": [
    {
     "data": {
      "text/plain": [
       "['.\\\\models\\\\RF.m']"
      ]
     },
     "execution_count": 20,
     "metadata": {},
     "output_type": "execute_result"
    }
   ],
   "source": [
    "joblib.dump(RF, \".\\\\models\\\\RF.m\") "
   ]
  },
  {
   "cell_type": "markdown",
   "id": "097a40ce",
   "metadata": {},
   "source": [
    "## (e). **SVM**"
   ]
  },
  {
   "cell_type": "markdown",
   "id": "c28ef459",
   "metadata": {},
   "source": [
    "We build a Support Vector Machine Model and use all the possible feature combinations of this model to do the training and testing. We calculate the training and testing accuracies and order them by training accuracy."
   ]
  },
  {
   "cell_type": "code",
   "execution_count": 21,
   "id": "1e4cc27f",
   "metadata": {},
   "outputs": [
    {
     "name": "stdout",
     "output_type": "stream",
     "text": [
      "['radius_mean', 'texture_mean', 'perimeter_mean', 'area_mean', 'smoothness_mean', 'compactness_mean', 'concavity_mean', 'concave.points_mean', 'symmetry_mean', 'fractal_dimension_mean', 'radius_se', 'texture_se', 'perimeter_se', 'area_se', 'smoothness_se', 'compactness_se', 'concavity_se', 'concave.points_se', 'symmetry_se', 'fractal_dimension_se', 'radius_worst', 'texture_worst', 'perimeter_worst', 'area_worst', 'smoothness_worst', 'compactness_worst', 'concavity_worst', 'concave.points_worst', 'symmetry_worst', 'fractal_dimension_worst']:\n",
      " Train score is:0.972 --- Test score is:0.947\n",
      "['area_worst', 'area_mean', 'concave.points_mean', 'concave.points_worst']:\n",
      " Train score is:0.947 --- Test score is:0.971\n",
      "['perimeter_worst', 'perimeter_mean', 'area_worst', 'area_mean', 'concave.points_mean', 'concave.points_worst', 'radius_worst', 'radius_mean', 'concavity_worst', 'concavity_mean']:\n",
      " Train score is:0.94 --- Test score is:0.93\n",
      "['perimeter_worst', 'perimeter_mean', 'area_worst', 'area_mean', 'concave.points_mean', 'concave.points_worst']:\n",
      " Train score is:0.937 --- Test score is:0.947\n",
      "['perimeter_worst', 'perimeter_mean', 'area_worst', 'area_mean']:\n",
      " Train score is:0.937 --- Test score is:0.977\n",
      "['radius_mean', 'perimeter_mean', 'area_mean', 'concave.points_mean', 'concavity_mean']:\n",
      " Train score is:0.93 --- Test score is:0.971\n",
      "['area_mean', 'concave.points_mean']:\n",
      " Train score is:0.912 --- Test score is:0.912\n"
     ]
    }
   ],
   "source": [
    "SVM = SVC(kernel = 'rbf',C=1E6,gamma = 0.005)\n",
    "check_column_score(SVM)  "
   ]
  },
  {
   "cell_type": "markdown",
   "id": "1241e25b",
   "metadata": {},
   "source": [
    "We choose the features in cols5 and train the model based on those features. We also test the accuracy on the testing data set and use the function plot_confusionmatrix to display the confusion matrix."
   ]
  },
  {
   "cell_type": "code",
   "execution_count": 22,
   "id": "63968286",
   "metadata": {},
   "outputs": [
    {
     "name": "stdout",
     "output_type": "stream",
     "text": [
      "0.9594771241830065\n"
     ]
    },
    {
     "data": {
      "image/png": "[encoded data removed]",
      "text/plain": [
       "<Figure size 432x288 with 1 Axes>"
      ]
     },
     "metadata": {},
     "output_type": "display_data"
    }
   ],
   "source": [
    "SVM.fit(X_train[cols5], y_train)\n",
    "cv_score_test = cross_val_score(SVM, X_test[cols5], y_test, cv=10).mean()\n",
    "print(cv_score_test)\n",
    "plot_confusionmatrix(SVM,X_test[cols5],y_test)"
   ]
  },
  {
   "cell_type": "markdown",
   "id": "1e053913",
   "metadata": {},
   "source": [
    "We store our trained Support Vector Machine model in models\\SVM.m and use it in webapp."
   ]
  },
  {
   "cell_type": "code",
   "execution_count": 23,
   "id": "f95dd892",
   "metadata": {},
   "outputs": [
    {
     "data": {
      "text/plain": [
       "['.\\\\models\\\\SVM.m']"
      ]
     },
     "execution_count": 23,
     "metadata": {},
     "output_type": "execute_result"
    }
   ],
   "source": [
    "joblib.dump(SVM, \".\\\\models\\\\SVM.m\") "
   ]
  },
  {
   "cell_type": "markdown",
   "id": "d9225a72",
   "metadata": {},
   "source": [
    "## (f). **Tensorflow** "
   ]
  },
  {
   "cell_type": "markdown",
   "id": "70e9d5f5",
   "metadata": {},
   "source": [
    "We build a Tensorflow Model in all the features. We calculate the training and testing accuracies and order them by training accuracy."
   ]
  },
  {
   "cell_type": "code",
   "execution_count": 9,
   "id": "3fbdd7dc",
   "metadata": {},
   "outputs": [],
   "source": [
    "import tensorflow as tf\n",
    "from tensorflow import keras\n",
    "from tensorflow.keras import layers\n",
    "TF = tf.keras.models.Sequential([\n",
    "    layers.Dense(100, input_shape = (30,), activation='relu'),\n",
    "    layers.Dense(100,activation=\"sigmoid\"),\n",
    "    layers.Dense(10,activation=\"softmax\"),\n",
    "    layers.Dense(2)\n",
    "])"
   ]
  },
  {
   "cell_type": "code",
   "execution_count": 10,
   "id": "86b22975",
   "metadata": {},
   "outputs": [
    {
     "name": "stdout",
     "output_type": "stream",
     "text": [
      "Model: \"sequential\"\n",
      "_________________________________________________________________\n",
      "Layer (type)                 Output Shape              Param #   \n",
      "=================================================================\n",
      "dense (Dense)                (None, 100)               3100      \n",
      "_________________________________________________________________\n",
      "dense_1 (Dense)              (None, 100)               10100     \n",
      "_________________________________________________________________\n",
      "dense_2 (Dense)              (None, 10)                1010      \n",
      "_________________________________________________________________\n",
      "dense_3 (Dense)              (None, 2)                 22        \n",
      "=================================================================\n",
      "Total params: 14,232\n",
      "Trainable params: 14,232\n",
      "Non-trainable params: 0\n",
      "_________________________________________________________________\n"
     ]
    }
   ],
   "source": [
    "TF.summary()"
   ]
  },
  {
   "cell_type": "markdown",
   "id": "2fa4e552",
   "metadata": {},
   "source": [
    "Train TF model and plot the history of the accuracy on both the training and vailidation sets."
   ]
  },
  {
   "cell_type": "code",
   "execution_count": 11,
   "id": "3e51b6d4",
   "metadata": {
    "scrolled": false
   },
   "outputs": [
    {
     "name": "stdout",
     "output_type": "stream",
     "text": [
      "Epoch 1/100\n",
      "13/13 [==============================] - 0s 2ms/step - loss: 0.6756 - accuracy: 0.7010\n",
      "Epoch 2/100\n",
      "13/13 [==============================] - 0s 880us/step - loss: 0.6088 - accuracy: 0.8719\n",
      "Epoch 3/100\n",
      "13/13 [==============================] - 0s 921us/step - loss: 0.5410 - accuracy: 0.9322\n",
      "Epoch 4/100\n",
      "13/13 [==============================] - 0s 924us/step - loss: 0.5031 - accuracy: 0.9523\n",
      "Epoch 5/100\n",
      "13/13 [==============================] - 0s 921us/step - loss: 0.4793 - accuracy: 0.9648\n",
      "Epoch 6/100\n",
      "13/13 [==============================] - 0s 997us/step - loss: 0.4608 - accuracy: 0.9724\n",
      "Epoch 7/100\n",
      "13/13 [==============================] - 0s 1ms/step - loss: 0.4455 - accuracy: 0.9799\n",
      "Epoch 8/100\n",
      "13/13 [==============================] - 0s 921us/step - loss: 0.4320 - accuracy: 0.9824\n",
      "Epoch 9/100\n",
      "13/13 [==============================] - 0s 921us/step - loss: 0.4190 - accuracy: 0.9849\n",
      "Epoch 10/100\n",
      "13/13 [==============================] - 0s 921us/step - loss: 0.4074 - accuracy: 0.9899\n",
      "Epoch 11/100\n",
      "13/13 [==============================] - 0s 844us/step - loss: 0.3964 - accuracy: 0.9899\n",
      "Epoch 12/100\n",
      "13/13 [==============================] - 0s 921us/step - loss: 0.3862 - accuracy: 0.9899\n",
      "Epoch 13/100\n",
      "13/13 [==============================] - 0s 844us/step - loss: 0.3763 - accuracy: 0.9899\n",
      "Epoch 14/100\n",
      "13/13 [==============================] - 0s 920us/step - loss: 0.3670 - accuracy: 0.9899\n",
      "Epoch 15/100\n",
      "13/13 [==============================] - 0s 1ms/step - loss: 0.3581 - accuracy: 0.9899\n",
      "Epoch 16/100\n",
      "13/13 [==============================] - 0s 921us/step - loss: 0.3495 - accuracy: 0.9925\n",
      "Epoch 17/100\n",
      "13/13 [==============================] - 0s 921us/step - loss: 0.3417 - accuracy: 0.9925\n",
      "Epoch 18/100\n",
      "13/13 [==============================] - 0s 844us/step - loss: 0.3341 - accuracy: 0.9925\n",
      "Epoch 19/100\n",
      "13/13 [==============================] - 0s 844us/step - loss: 0.3267 - accuracy: 0.9925\n",
      "Epoch 20/100\n",
      "13/13 [==============================] - 0s 920us/step - loss: 0.3196 - accuracy: 0.9925\n",
      "Epoch 21/100\n",
      "13/13 [==============================] - 0s 767us/step - loss: 0.3129 - accuracy: 0.9925\n",
      "Epoch 22/100\n",
      "13/13 [==============================] - 0s 844us/step - loss: 0.3065 - accuracy: 0.9925\n",
      "Epoch 23/100\n",
      "13/13 [==============================] - 0s 690us/step - loss: 0.3003 - accuracy: 0.9925\n",
      "Epoch 24/100\n",
      "13/13 [==============================] - 0s 767us/step - loss: 0.2943 - accuracy: 0.9925\n",
      "Epoch 25/100\n",
      "13/13 [==============================] - 0s 767us/step - loss: 0.2886 - accuracy: 0.9925\n",
      "Epoch 26/100\n",
      "13/13 [==============================] - 0s 921us/step - loss: 0.2831 - accuracy: 0.9925\n",
      "Epoch 27/100\n",
      "13/13 [==============================] - 0s 767us/step - loss: 0.2774 - accuracy: 0.9925\n",
      "Epoch 28/100\n",
      "13/13 [==============================] - 0s 844us/step - loss: 0.2721 - accuracy: 0.9925\n",
      "Epoch 29/100\n",
      "13/13 [==============================] - 0s 690us/step - loss: 0.2666 - accuracy: 0.9950\n",
      "Epoch 30/100\n",
      "13/13 [==============================] - 0s 844us/step - loss: 0.2604 - accuracy: 0.9950\n",
      "Epoch 31/100\n",
      "13/13 [==============================] - 0s 844us/step - loss: 0.2554 - accuracy: 0.9950\n",
      "Epoch 32/100\n",
      "13/13 [==============================] - 0s 921us/step - loss: 0.2510 - accuracy: 0.9950\n",
      "Epoch 33/100\n",
      "13/13 [==============================] - 0s 844us/step - loss: 0.2482 - accuracy: 0.9925\n",
      "Epoch 34/100\n",
      "13/13 [==============================] - 0s 772us/step - loss: 0.2425 - accuracy: 0.9950\n",
      "Epoch 35/100\n",
      "13/13 [==============================] - 0s 767us/step - loss: 0.2360 - accuracy: 0.9975\n",
      "Epoch 36/100\n",
      "13/13 [==============================] - 0s 767us/step - loss: 0.2319 - accuracy: 0.9950\n",
      "Epoch 37/100\n",
      "13/13 [==============================] - 0s 844us/step - loss: 0.2274 - accuracy: 0.9950\n",
      "Epoch 38/100\n",
      "13/13 [==============================] - 0s 767us/step - loss: 0.2231 - accuracy: 0.9975\n",
      "Epoch 39/100\n",
      "13/13 [==============================] - 0s 767us/step - loss: 0.2190 - accuracy: 0.9975\n",
      "Epoch 40/100\n",
      "13/13 [==============================] - 0s 767us/step - loss: 0.2151 - accuracy: 0.9975\n",
      "Epoch 41/100\n",
      "13/13 [==============================] - 0s 767us/step - loss: 0.2115 - accuracy: 0.9975\n",
      "Epoch 42/100\n",
      "13/13 [==============================] - 0s 767us/step - loss: 0.2079 - accuracy: 0.9975\n",
      "Epoch 43/100\n",
      "13/13 [==============================] - 0s 690us/step - loss: 0.2040 - accuracy: 0.9975\n",
      "Epoch 44/100\n",
      "13/13 [==============================] - 0s 844us/step - loss: 0.2012 - accuracy: 0.9975\n",
      "Epoch 45/100\n",
      "13/13 [==============================] - 0s 767us/step - loss: 0.1976 - accuracy: 0.9975\n",
      "Epoch 46/100\n",
      "13/13 [==============================] - 0s 767us/step - loss: 0.1942 - accuracy: 0.9975\n",
      "Epoch 47/100\n",
      "13/13 [==============================] - 0s 767us/step - loss: 0.1910 - accuracy: 0.9975\n",
      "Epoch 48/100\n",
      "13/13 [==============================] - 0s 690us/step - loss: 0.1878 - accuracy: 0.9975\n",
      "Epoch 49/100\n",
      "13/13 [==============================] - 0s 767us/step - loss: 0.1848 - accuracy: 0.9975\n",
      "Epoch 50/100\n",
      "13/13 [==============================] - 0s 844us/step - loss: 0.1819 - accuracy: 0.9975\n",
      "Epoch 51/100\n",
      "13/13 [==============================] - 0s 690us/step - loss: 0.1791 - accuracy: 0.9975\n",
      "Epoch 52/100\n",
      "13/13 [==============================] - 0s 690us/step - loss: 0.1761 - accuracy: 0.9975\n",
      "Epoch 53/100\n",
      "13/13 [==============================] - 0s 844us/step - loss: 0.1734 - accuracy: 0.9975\n",
      "Epoch 54/100\n",
      "13/13 [==============================] - 0s 844us/step - loss: 0.1707 - accuracy: 0.9975\n",
      "Epoch 55/100\n",
      "13/13 [==============================] - 0s 690us/step - loss: 0.1682 - accuracy: 0.9975\n",
      "Epoch 56/100\n",
      "13/13 [==============================] - 0s 690us/step - loss: 0.1657 - accuracy: 0.9975\n",
      "Epoch 57/100\n",
      "13/13 [==============================] - 0s 690us/step - loss: 0.1632 - accuracy: 0.9975\n",
      "Epoch 58/100\n",
      "13/13 [==============================] - 0s 767us/step - loss: 0.1607 - accuracy: 0.9975\n",
      "Epoch 59/100\n",
      "13/13 [==============================] - 0s 767us/step - loss: 0.1583 - accuracy: 0.9975\n",
      "Epoch 60/100\n",
      "13/13 [==============================] - 0s 690us/step - loss: 0.1560 - accuracy: 0.9975\n",
      "Epoch 61/100\n",
      "13/13 [==============================] - 0s 767us/step - loss: 0.1537 - accuracy: 0.9975\n",
      "Epoch 62/100\n",
      "13/13 [==============================] - 0s 767us/step - loss: 0.1515 - accuracy: 0.9975\n",
      "Epoch 63/100\n",
      "13/13 [==============================] - 0s 767us/step - loss: 0.1493 - accuracy: 0.9975\n",
      "Epoch 64/100\n",
      "13/13 [==============================] - 0s 690us/step - loss: 0.1473 - accuracy: 0.9975\n",
      "Epoch 65/100\n",
      "13/13 [==============================] - 0s 690us/step - loss: 0.1452 - accuracy: 0.9975\n",
      "Epoch 66/100\n",
      "13/13 [==============================] - 0s 690us/step - loss: 0.1432 - accuracy: 0.9975\n",
      "Epoch 67/100\n",
      "13/13 [==============================] - 0s 767us/step - loss: 0.1412 - accuracy: 0.9975\n",
      "Epoch 68/100\n",
      "13/13 [==============================] - 0s 767us/step - loss: 0.1392 - accuracy: 0.9975\n",
      "Epoch 69/100\n",
      "13/13 [==============================] - 0s 844us/step - loss: 0.1373 - accuracy: 0.9975\n",
      "Epoch 70/100\n",
      "13/13 [==============================] - 0s 767us/step - loss: 0.1354 - accuracy: 0.9975\n",
      "Epoch 71/100\n",
      "13/13 [==============================] - 0s 690us/step - loss: 0.1336 - accuracy: 0.9975\n",
      "Epoch 72/100\n",
      "13/13 [==============================] - 0s 844us/step - loss: 0.1318 - accuracy: 0.9975\n",
      "Epoch 73/100\n",
      "13/13 [==============================] - 0s 1ms/step - loss: 0.1301 - accuracy: 0.9975\n",
      "Epoch 74/100\n",
      "13/13 [==============================] - 0s 767us/step - loss: 0.1283 - accuracy: 0.9975\n",
      "Epoch 75/100\n",
      "13/13 [==============================] - 0s 690us/step - loss: 0.1267 - accuracy: 0.9975\n",
      "Epoch 76/100\n",
      "13/13 [==============================] - 0s 690us/step - loss: 0.1250 - accuracy: 0.9975\n",
      "Epoch 77/100\n",
      "13/13 [==============================] - 0s 767us/step - loss: 0.1234 - accuracy: 0.9975\n",
      "Epoch 78/100\n",
      "13/13 [==============================] - 0s 690us/step - loss: 0.1218 - accuracy: 0.9975\n",
      "Epoch 79/100\n",
      "13/13 [==============================] - 0s 767us/step - loss: 0.1203 - accuracy: 0.9975\n",
      "Epoch 80/100\n",
      "13/13 [==============================] - 0s 767us/step - loss: 0.1188 - accuracy: 0.9975\n",
      "Epoch 81/100\n",
      "13/13 [==============================] - 0s 690us/step - loss: 0.1173 - accuracy: 0.9975\n",
      "Epoch 82/100\n",
      "13/13 [==============================] - 0s 690us/step - loss: 0.1158 - accuracy: 0.9975\n",
      "Epoch 83/100\n",
      "13/13 [==============================] - 0s 690us/step - loss: 0.1144 - accuracy: 0.9975\n",
      "Epoch 84/100\n",
      "13/13 [==============================] - 0s 767us/step - loss: 0.1130 - accuracy: 0.9975\n",
      "Epoch 85/100\n",
      "13/13 [==============================] - 0s 767us/step - loss: 0.1116 - accuracy: 0.9975\n",
      "Epoch 86/100\n",
      "13/13 [==============================] - 0s 690us/step - loss: 0.1102 - accuracy: 0.9975\n",
      "Epoch 87/100\n",
      "13/13 [==============================] - 0s 691us/step - loss: 0.1089 - accuracy: 0.9975\n",
      "Epoch 88/100\n",
      "13/13 [==============================] - 0s 767us/step - loss: 0.1076 - accuracy: 0.9975\n",
      "Epoch 89/100\n",
      "13/13 [==============================] - 0s 690us/step - loss: 0.1063 - accuracy: 0.9975\n",
      "Epoch 90/100\n",
      "13/13 [==============================] - 0s 614us/step - loss: 0.1051 - accuracy: 0.9975\n",
      "Epoch 91/100\n",
      "13/13 [==============================] - 0s 844us/step - loss: 0.1038 - accuracy: 0.9975\n",
      "Epoch 92/100\n",
      "13/13 [==============================] - 0s 997us/step - loss: 0.1026 - accuracy: 0.9975\n",
      "Epoch 93/100\n",
      "13/13 [==============================] - 0s 997us/step - loss: 0.1014 - accuracy: 0.9975\n",
      "Epoch 94/100\n",
      "13/13 [==============================] - 0s 997us/step - loss: 0.1003 - accuracy: 0.9975\n",
      "Epoch 95/100\n",
      "13/13 [==============================] - 0s 921us/step - loss: 0.0991 - accuracy: 0.9975\n",
      "Epoch 96/100\n",
      "13/13 [==============================] - 0s 921us/step - loss: 0.0980 - accuracy: 0.9975\n",
      "Epoch 97/100\n",
      "13/13 [==============================] - 0s 844us/step - loss: 0.0969 - accuracy: 0.9975\n",
      "Epoch 98/100\n",
      "13/13 [==============================] - 0s 767us/step - loss: 0.0958 - accuracy: 0.9975\n",
      "Epoch 99/100\n",
      "13/13 [==============================] - 0s 844us/step - loss: 0.0948 - accuracy: 0.9975\n",
      "Epoch 100/100\n",
      "13/13 [==============================] - 0s 844us/step - loss: 0.0937 - accuracy: 0.9975\n"
     ]
    }
   ],
   "source": [
    "# ready for training!\n",
    "loss_fn = tf.keras.losses.SparseCategoricalCrossentropy(from_logits=True)\n",
    "TF.compile(optimizer =\"adam\",\n",
    "              loss = loss_fn,\n",
    "              metrics = [\"accuracy\"])\n",
    "# train them 100 times.\n",
    "history = TF.fit(X_train[cols0], y_train, epochs = 100, verbose=1)"
   ]
  },
  {
   "cell_type": "markdown",
   "id": "16a98262",
   "metadata": {},
   "source": [
    "Plot the history of TF, including the training and validation performance."
   ]
  },
  {
   "cell_type": "code",
   "execution_count": 12,
   "id": "89c4a596",
   "metadata": {},
   "outputs": [
    {
     "data": {
      "text/plain": [
       "[Text(0.5, 0, 'epoch'), Text(0, 0.5, 'training accuracy')]"
      ]
     },
     "execution_count": 12,
     "metadata": {},
     "output_type": "execute_result"
    },
    {
     "data": {
      "image/png": "[encoded data removed]",
      "text/plain": [
       "<Figure size 432x288 with 1 Axes>"
      ]
     },
     "metadata": {},
     "output_type": "display_data"
    }
   ],
   "source": [
    "# plot the progress of the training over time:\n",
    "plt.plot(history.history[\"accuracy\"])\n",
    "plt.gca().set(xlabel = \"epoch\", ylabel = \"training accuracy\")"
   ]
  },
  {
   "cell_type": "markdown",
   "id": "913876ab",
   "metadata": {},
   "source": [
    "We’ll test the model performance on unseen test data."
   ]
  },
  {
   "cell_type": "code",
   "execution_count": 13,
   "id": "eb0ed2bc",
   "metadata": {},
   "outputs": [
    {
     "name": "stdout",
     "output_type": "stream",
     "text": [
      "6/6 - 0s - loss: 0.1429 - accuracy: 0.9649\n"
     ]
    },
    {
     "data": {
      "text/plain": [
       "[0.14287850260734558, 0.9649122953414917]"
      ]
     },
     "execution_count": 13,
     "metadata": {},
     "output_type": "execute_result"
    }
   ],
   "source": [
    "TF.evaluate(X_test[cols0], y_test, verbose = 2)"
   ]
  },
  {
   "cell_type": "markdown",
   "id": "ca8c2a23",
   "metadata": {},
   "source": [
    "##### My observations\n",
    "(1)The validation accuracy of model stabilized between 70.64% and 99.75% during training.\n",
    "\n",
    "(2)The highest validation accuracy is 99.75%.\n",
    "\n",
    "(3)From the plot, I observed the model converges quickly .\n",
    "\n",
    "(4)The test accuracy is 98.25%."
   ]
  },
  {
   "cell_type": "markdown",
   "id": "5e334984",
   "metadata": {},
   "source": [
    "### cols5, only 4 features"
   ]
  },
  {
   "cell_type": "markdown",
   "id": "b1954e6e",
   "metadata": {},
   "source": [
    "We build a Tensorflow Model with only four features combinations cols5. We calculate the training and testing accuracies and order them by training accuracy."
   ]
  },
  {
   "cell_type": "code",
   "execution_count": 32,
   "id": "7fe21de7",
   "metadata": {},
   "outputs": [
    {
     "name": "stdout",
     "output_type": "stream",
     "text": [
      "Epoch 1/100\n",
      "13/13 [==============================] - 0s 2ms/step - loss: 0.7266 - accuracy: 0.3744\n",
      "Epoch 2/100\n",
      "13/13 [==============================] - 0s 2ms/step - loss: 0.6544 - accuracy: 0.8040\n",
      "Epoch 3/100\n",
      "13/13 [==============================] - 0s 921us/step - loss: 0.5990 - accuracy: 0.8593\n",
      "Epoch 4/100\n",
      "13/13 [==============================] - 0s 920us/step - loss: 0.5329 - accuracy: 0.9196\n",
      "Epoch 5/100\n",
      "13/13 [==============================] - 0s 921us/step - loss: 0.4859 - accuracy: 0.9296\n",
      "Epoch 6/100\n",
      "13/13 [==============================] - 0s 844us/step - loss: 0.4577 - accuracy: 0.9347\n",
      "Epoch 7/100\n",
      "13/13 [==============================] - 0s 872us/step - loss: 0.4398 - accuracy: 0.9347\n",
      "Epoch 8/100\n",
      "13/13 [==============================] - 0s 918us/step - loss: 0.4270 - accuracy: 0.9347\n",
      "Epoch 9/100\n",
      "13/13 [==============================] - 0s 844us/step - loss: 0.4152 - accuracy: 0.9422\n",
      "Epoch 10/100\n",
      "13/13 [==============================] - 0s 843us/step - loss: 0.4053 - accuracy: 0.9447\n",
      "Epoch 11/100\n",
      "13/13 [==============================] - 0s 844us/step - loss: 0.3961 - accuracy: 0.9422\n",
      "Epoch 12/100\n",
      "13/13 [==============================] - 0s 921us/step - loss: 0.3873 - accuracy: 0.9472\n",
      "Epoch 13/100\n",
      "13/13 [==============================] - 0s 920us/step - loss: 0.3792 - accuracy: 0.9397\n",
      "Epoch 14/100\n",
      "13/13 [==============================] - 0s 921us/step - loss: 0.3717 - accuracy: 0.9422\n",
      "Epoch 15/100\n",
      "13/13 [==============================] - 0s 844us/step - loss: 0.3651 - accuracy: 0.9397\n",
      "Epoch 16/100\n",
      "13/13 [==============================] - 0s 767us/step - loss: 0.3579 - accuracy: 0.9422\n",
      "Epoch 17/100\n",
      "13/13 [==============================] - 0s 767us/step - loss: 0.3521 - accuracy: 0.9422\n",
      "Epoch 18/100\n",
      "13/13 [==============================] - 0s 920us/step - loss: 0.3458 - accuracy: 0.9422\n",
      "Epoch 19/100\n",
      "13/13 [==============================] - 0s 997us/step - loss: 0.3400 - accuracy: 0.9422\n",
      "Epoch 20/100\n",
      "13/13 [==============================] - 0s 1ms/step - loss: 0.3350 - accuracy: 0.9397\n",
      "Epoch 21/100\n",
      "13/13 [==============================] - 0s 997us/step - loss: 0.3297 - accuracy: 0.9422\n",
      "Epoch 22/100\n",
      "13/13 [==============================] - 0s 921us/step - loss: 0.3241 - accuracy: 0.9422\n",
      "Epoch 23/100\n",
      "13/13 [==============================] - 0s 997us/step - loss: 0.3193 - accuracy: 0.9422\n",
      "Epoch 24/100\n",
      "13/13 [==============================] - 0s 1ms/step - loss: 0.3147 - accuracy: 0.9397\n",
      "Epoch 25/100\n",
      "13/13 [==============================] - 0s 997us/step - loss: 0.3091 - accuracy: 0.9397\n",
      "Epoch 26/100\n",
      "13/13 [==============================] - 0s 921us/step - loss: 0.3048 - accuracy: 0.9422\n",
      "Epoch 27/100\n",
      "13/13 [==============================] - 0s 1ms/step - loss: 0.3007 - accuracy: 0.9372\n",
      "Epoch 28/100\n",
      "13/13 [==============================] - 0s 920us/step - loss: 0.2957 - accuracy: 0.9372\n",
      "Epoch 29/100\n",
      "13/13 [==============================] - 0s 997us/step - loss: 0.2914 - accuracy: 0.9397\n",
      "Epoch 30/100\n",
      "13/13 [==============================] - 0s 844us/step - loss: 0.2864 - accuracy: 0.9422\n",
      "Epoch 31/100\n",
      "13/13 [==============================] - 0s 921us/step - loss: 0.2819 - accuracy: 0.9447\n",
      "Epoch 32/100\n",
      "13/13 [==============================] - 0s 767us/step - loss: 0.2776 - accuracy: 0.9472\n",
      "Epoch 33/100\n",
      "13/13 [==============================] - 0s 918us/step - loss: 0.2735 - accuracy: 0.9472\n",
      "Epoch 34/100\n",
      "13/13 [==============================] - 0s 997us/step - loss: 0.2693 - accuracy: 0.9447\n",
      "Epoch 35/100\n",
      "13/13 [==============================] - 0s 997us/step - loss: 0.2649 - accuracy: 0.9472\n",
      "Epoch 36/100\n",
      "13/13 [==============================] - 0s 844us/step - loss: 0.2615 - accuracy: 0.9472\n",
      "Epoch 37/100\n",
      "13/13 [==============================] - 0s 844us/step - loss: 0.2566 - accuracy: 0.9523\n",
      "Epoch 38/100\n",
      "13/13 [==============================] - 0s 844us/step - loss: 0.2534 - accuracy: 0.9548\n",
      "Epoch 39/100\n",
      "13/13 [==============================] - 0s 921us/step - loss: 0.2501 - accuracy: 0.9573\n",
      "Epoch 40/100\n",
      "13/13 [==============================] - 0s 921us/step - loss: 0.2472 - accuracy: 0.9598\n",
      "Epoch 41/100\n",
      "13/13 [==============================] - 0s 997us/step - loss: 0.2436 - accuracy: 0.9648\n",
      "Epoch 42/100\n",
      "13/13 [==============================] - 0s 1ms/step - loss: 0.2397 - accuracy: 0.9598\n",
      "Epoch 43/100\n",
      "13/13 [==============================] - 0s 844us/step - loss: 0.2362 - accuracy: 0.9648\n",
      "Epoch 44/100\n",
      "13/13 [==============================] - 0s 921us/step - loss: 0.2337 - accuracy: 0.9598\n",
      "Epoch 45/100\n",
      "13/13 [==============================] - 0s 921us/step - loss: 0.2305 - accuracy: 0.9623\n",
      "Epoch 46/100\n",
      "13/13 [==============================] - 0s 844us/step - loss: 0.2274 - accuracy: 0.9673\n",
      "Epoch 47/100\n",
      "13/13 [==============================] - 0s 844us/step - loss: 0.2298 - accuracy: 0.9548\n",
      "Epoch 48/100\n",
      "13/13 [==============================] - 0s 844us/step - loss: 0.2208 - accuracy: 0.9698\n",
      "Epoch 49/100\n",
      "13/13 [==============================] - 0s 767us/step - loss: 0.2208 - accuracy: 0.9673\n",
      "Epoch 50/100\n",
      "13/13 [==============================] - 0s 844us/step - loss: 0.2171 - accuracy: 0.9648\n",
      "Epoch 51/100\n",
      "13/13 [==============================] - 0s 997us/step - loss: 0.2146 - accuracy: 0.9598\n",
      "Epoch 52/100\n",
      "13/13 [==============================] - 0s 997us/step - loss: 0.2131 - accuracy: 0.9673\n",
      "Epoch 53/100\n",
      "13/13 [==============================] - 0s 921us/step - loss: 0.2096 - accuracy: 0.9698\n",
      "Epoch 54/100\n",
      "13/13 [==============================] - 0s 767us/step - loss: 0.2080 - accuracy: 0.9623\n",
      "Epoch 55/100\n",
      "13/13 [==============================] - 0s 767us/step - loss: 0.2050 - accuracy: 0.9673\n",
      "Epoch 56/100\n",
      "13/13 [==============================] - 0s 841us/step - loss: 0.2031 - accuracy: 0.9698\n",
      "Epoch 57/100\n",
      "13/13 [==============================] - 0s 844us/step - loss: 0.2011 - accuracy: 0.9698\n",
      "Epoch 58/100\n",
      "13/13 [==============================] - 0s 690us/step - loss: 0.1993 - accuracy: 0.9698\n",
      "Epoch 59/100\n",
      "13/13 [==============================] - 0s 921us/step - loss: 0.1971 - accuracy: 0.9673\n",
      "Epoch 60/100\n",
      "13/13 [==============================] - 0s 921us/step - loss: 0.1954 - accuracy: 0.9673\n",
      "Epoch 61/100\n",
      "13/13 [==============================] - 0s 767us/step - loss: 0.1933 - accuracy: 0.9698\n",
      "Epoch 62/100\n",
      "13/13 [==============================] - 0s 997us/step - loss: 0.1915 - accuracy: 0.9673\n",
      "Epoch 63/100\n",
      "13/13 [==============================] - 0s 1ms/step - loss: 0.1895 - accuracy: 0.9673\n",
      "Epoch 64/100\n",
      "13/13 [==============================] - 0s 997us/step - loss: 0.1885 - accuracy: 0.9648\n",
      "Epoch 65/100\n",
      "13/13 [==============================] - 0s 1ms/step - loss: 0.1873 - accuracy: 0.9698\n",
      "Epoch 66/100\n",
      "13/13 [==============================] - 0s 1ms/step - loss: 0.1864 - accuracy: 0.9724\n",
      "Epoch 67/100\n",
      "13/13 [==============================] - 0s 997us/step - loss: 0.1826 - accuracy: 0.9698\n",
      "Epoch 68/100\n",
      "13/13 [==============================] - 0s 921us/step - loss: 0.1816 - accuracy: 0.9673\n",
      "Epoch 69/100\n",
      "13/13 [==============================] - 0s 997us/step - loss: 0.1799 - accuracy: 0.9724\n",
      "Epoch 70/100\n",
      "13/13 [==============================] - 0s 921us/step - loss: 0.1784 - accuracy: 0.9698\n",
      "Epoch 71/100\n",
      "13/13 [==============================] - 0s 997us/step - loss: 0.1769 - accuracy: 0.9673\n",
      "Epoch 72/100\n",
      "13/13 [==============================] - 0s 920us/step - loss: 0.1758 - accuracy: 0.9698\n",
      "Epoch 73/100\n",
      "13/13 [==============================] - 0s 921us/step - loss: 0.1740 - accuracy: 0.9724\n",
      "Epoch 74/100\n",
      "13/13 [==============================] - 0s 844us/step - loss: 0.1729 - accuracy: 0.9724\n",
      "Epoch 75/100\n",
      "13/13 [==============================] - 0s 844us/step - loss: 0.1710 - accuracy: 0.9749\n",
      "Epoch 76/100\n",
      "13/13 [==============================] - 0s 767us/step - loss: 0.1702 - accuracy: 0.9698\n",
      "Epoch 77/100\n",
      "13/13 [==============================] - 0s 767us/step - loss: 0.1685 - accuracy: 0.9724\n",
      "Epoch 78/100\n",
      "13/13 [==============================] - 0s 690us/step - loss: 0.1678 - accuracy: 0.9749\n",
      "Epoch 79/100\n",
      "13/13 [==============================] - 0s 690us/step - loss: 0.1662 - accuracy: 0.9749\n",
      "Epoch 80/100\n",
      "13/13 [==============================] - 0s 767us/step - loss: 0.1651 - accuracy: 0.9724\n",
      "Epoch 81/100\n",
      "13/13 [==============================] - 0s 690us/step - loss: 0.1639 - accuracy: 0.9698\n",
      "Epoch 82/100\n",
      "13/13 [==============================] - 0s 691us/step - loss: 0.1634 - accuracy: 0.9698\n",
      "Epoch 83/100\n",
      "13/13 [==============================] - 0s 690us/step - loss: 0.1611 - accuracy: 0.9749\n",
      "Epoch 84/100\n",
      "13/13 [==============================] - 0s 1ms/step - loss: 0.1600 - accuracy: 0.9749\n",
      "Epoch 85/100\n",
      "13/13 [==============================] - 0s 844us/step - loss: 0.1589 - accuracy: 0.9749\n",
      "Epoch 86/100\n",
      "13/13 [==============================] - 0s 921us/step - loss: 0.1587 - accuracy: 0.9749\n",
      "Epoch 87/100\n",
      "13/13 [==============================] - 0s 1ms/step - loss: 0.1583 - accuracy: 0.9698\n",
      "Epoch 88/100\n",
      "13/13 [==============================] - 0s 997us/step - loss: 0.1562 - accuracy: 0.9749\n",
      "Epoch 89/100\n",
      "13/13 [==============================] - 0s 1ms/step - loss: 0.1556 - accuracy: 0.9724\n",
      "Epoch 90/100\n",
      "13/13 [==============================] - 0s 997us/step - loss: 0.1561 - accuracy: 0.9724\n",
      "Epoch 91/100\n",
      "13/13 [==============================] - 0s 997us/step - loss: 0.1531 - accuracy: 0.9774\n",
      "Epoch 92/100\n",
      "13/13 [==============================] - 0s 997us/step - loss: 0.1516 - accuracy: 0.9749\n",
      "Epoch 93/100\n",
      "13/13 [==============================] - 0s 920us/step - loss: 0.1510 - accuracy: 0.9774\n",
      "Epoch 94/100\n",
      "13/13 [==============================] - 0s 767us/step - loss: 0.1494 - accuracy: 0.9749\n",
      "Epoch 95/100\n",
      "13/13 [==============================] - 0s 844us/step - loss: 0.1491 - accuracy: 0.9749\n",
      "Epoch 96/100\n",
      "13/13 [==============================] - 0s 921us/step - loss: 0.1472 - accuracy: 0.9749\n",
      "Epoch 97/100\n",
      "13/13 [==============================] - 0s 844us/step - loss: 0.1472 - accuracy: 0.9749\n",
      "Epoch 98/100\n",
      "13/13 [==============================] - 0s 1ms/step - loss: 0.1460 - accuracy: 0.9774\n",
      "Epoch 99/100\n",
      "13/13 [==============================] - 0s 1ms/step - loss: 0.1456 - accuracy: 0.9749\n",
      "Epoch 100/100\n",
      "13/13 [==============================] - 0s 997us/step - loss: 0.1482 - accuracy: 0.9698\n"
     ]
    }
   ],
   "source": [
    "import tensorflow as tf\n",
    "from tensorflow import keras\n",
    "from tensorflow.keras import layers\n",
    "TF1 = tf.keras.models.Sequential([\n",
    "    layers.Dense(100, input_shape = (4,), activation='relu'),\n",
    "    layers.Dense(100,activation=\"sigmoid\"),\n",
    "    layers.Dense(10,activation=\"softmax\"),\n",
    "    layers.Dense(2)    \n",
    "])\n",
    "# ready for training!\n",
    "loss_fn = tf.keras.losses.SparseCategoricalCrossentropy(from_logits=True)\n",
    "TF1.compile(optimizer =\"adam\",\n",
    "              loss = loss_fn,\n",
    "              metrics = [\"accuracy\"])\n",
    "# train them 100 times.\n",
    "history = TF1.fit(X_train[cols5], y_train, epochs = 100, verbose=1)\n"
   ]
  },
  {
   "cell_type": "markdown",
   "id": "563b34b7",
   "metadata": {},
   "source": [
    "We store our trained TensorFlow model in models\\TF and use it in webapp."
   ]
  },
  {
   "cell_type": "code",
   "execution_count": 30,
   "id": "41f40ce5",
   "metadata": {},
   "outputs": [
    {
     "name": "stdout",
     "output_type": "stream",
     "text": [
      "WARNING:tensorflow:From E:\\Anaconda3\\envs\\PIC16B\\lib\\site-packages\\tensorflow\\python\\training\\tracking\\tracking.py:111: Model.state_updates (from tensorflow.python.keras.engine.training) is deprecated and will be removed in a future version.\n",
      "Instructions for updating:\n",
      "This property should not be used in TensorFlow 2.0, as updates are applied automatically.\n",
      "WARNING:tensorflow:From E:\\Anaconda3\\envs\\PIC16B\\lib\\site-packages\\tensorflow\\python\\training\\tracking\\tracking.py:111: Layer.updates (from tensorflow.python.keras.engine.base_layer) is deprecated and will be removed in a future version.\n",
      "Instructions for updating:\n",
      "This property should not be used in TensorFlow 2.0, as updates are applied automatically.\n",
      "INFO:tensorflow:Assets written to: .\\models\\TF\\assets\n"
     ]
    }
   ],
   "source": [
    "TF1.save('.\\\\models\\\\TF') "
   ]
  },
  {
   "cell_type": "markdown",
   "id": "581e18d4",
   "metadata": {},
   "source": [
    "Plot the history of TF1, including the training and validation performance."
   ]
  },
  {
   "cell_type": "code",
   "execution_count": 29,
   "id": "05b19b33",
   "metadata": {},
   "outputs": [
    {
     "data": {
      "text/plain": [
       "[Text(0.5, 0, 'epoch'), Text(0, 0.5, 'training accuracy')]"
      ]
     },
     "execution_count": 29,
     "metadata": {},
     "output_type": "execute_result"
    },
    {
     "data": {
      "image/png": "[encoded data removed]",
      "text/plain": [
       "<Figure size 432x288 with 1 Axes>"
      ]
     },
     "metadata": {},
     "output_type": "display_data"
    }
   ],
   "source": [
    "# plot the progress of the training over time:\n",
    "plt.plot(history.history[\"accuracy\"])\n",
    "plt.gca().set(xlabel = \"epoch\", ylabel = \"training accuracy\")"
   ]
  },
  {
   "cell_type": "markdown",
   "id": "b0df8054",
   "metadata": {},
   "source": [
    "We’ll test the model performance on unseen test data."
   ]
  },
  {
   "cell_type": "code",
   "execution_count": 25,
   "id": "46d66c72",
   "metadata": {},
   "outputs": [
    {
     "name": "stdout",
     "output_type": "stream",
     "text": [
      "6/6 - 0s - loss: 0.1321 - accuracy: 0.9591\n"
     ]
    },
    {
     "data": {
      "text/plain": [
       "[0.1320555955171585, 0.9590643048286438]"
      ]
     },
     "execution_count": 25,
     "metadata": {},
     "output_type": "execute_result"
    }
   ],
   "source": [
    "TF1.evaluate(X_test[cols5], y_test, verbose = 2)"
   ]
  },
  {
   "cell_type": "markdown",
   "id": "7a0c2f56",
   "metadata": {},
   "source": [
    "## (g). **Comparison of model accuracy** \n",
    "\n",
    "Plot the graph of the training accuracy and testing accuracy of each model."
   ]
  },
  {
   "cell_type": "code",
   "execution_count": 27,
   "id": "44039c82",
   "metadata": {},
   "outputs": [
    {
     "data": {
      "text/plain": [
       "Text(0.5, 0.98, 'The comparison of 6 Models')"
      ]
     },
     "execution_count": 27,
     "metadata": {},
     "output_type": "execute_result"
    },
    {
     "data": {
      "image/png": "[encoded data removed]",
      "text/plain": [
       "<Figure size 1008x720 with 2 Axes>"
      ]
     },
     "metadata": {},
     "output_type": "display_data"
    }
   ],
   "source": [
    "df1 = pd.read_csv(\".\\\\files\\\\train_score.csv\")\n",
    "df2 = pd.read_csv(\".\\\\files\\\\test_score.csv\")\n",
    "fig, axes = plt.subplots(2, 1,figsize=(14,10)) \n",
    "x = [0, 1, 2, 3,4,5,6]\n",
    "labels = [\"cols0\",\"cols1\",\"cols2\",\"cols3\",\"cols4\",\"cols5\",\"cols6\"]\n",
    "df1.plot(kind='line',marker='o',title='Train Accuracy',ax=axes[0])\n",
    "df2.plot(kind='line',marker='o',title='Test Accuracy',ax=axes[1]) \n",
    "axes[0].set_xticks(x, labels, rotation=30)\n",
    "axes[1].set_xticks(x, labels, rotation=30)\n",
    "plt.suptitle(\"The comparison of 6 Models\")"
   ]
  },
  {
   "cell_type": "markdown",
   "id": "7895c0e4",
   "metadata": {},
   "source": [
    "## My Oberserations:\n",
    "（1）\tWe can observe from the plot that the set that contains all features has the highest accuracy in training and testing. The testing accuracy, 98.6%, is the highest using the Linear Regression model for this set. Cols1 used the 10 best features we selected using SelectKBest, and the testing accuracy is 97.06% using tensorflow. We chose 6 distinct features from cols1 to form cols3, which also has a high testing accuracy.\n",
    "\n",
    "（2）\tCols4 is a subset of the set of the 10 best features we selected using SelectKBest which consists of the features perimeter_mean, perimeter_worst,area_mean and area_worst. From what we analyzed before we know that the perimeter and the area of a cell has high correlations with each other, so the testing accuracy of cols4 is a bit low, but its testing accuracy is very high. \n",
    "\n",
    "（3）\tFor cols5 we chose the features the area_mean,area_worst,concave.points_mean and concave.points_worst. The area of the cell and the number of its concave points have no direct correlations with each other, and they are vastly different in terms of their order of magnitude. However, after standardization, this set of features achieved very high accuracy in both testing and training. In our experiment we can see that this set of features achieved the second or third highest in accuracy using most of our machine learning models.\n",
    "\n",
    "（4）\tCols2 chose all the mean features in cols1 but gave up on all the worst features. Cols6 only chose 2 features. Compared to other cols, their results are low in accuracy.\n",
    "\n",
    "（5）\tIn these six distinct machine learning algorithms, we can see the tensorflow has the highest accuracy overall, with an accuracy of 97.66% with cols0, and an accuracy of 97.38% on cols5.\n",
    "\n",
    "（6）\tAll in all, although using every one of the 30 features achieves the highest testing accuracy, in practice it is too troublesome to collect 30 features one by one. Thus we choose to use col5, which only chose 4 out of the 30 columns but still achieves high testing accuracy. In our webapp, we only type in the 4 features of cols5 and use it to make predictions using our trained machine learning algorithms. "
   ]
  },
  {
   "cell_type": "code",
   "execution_count": null,
   "id": "1b4eb438",
   "metadata": {},
   "outputs": [],
   "source": []
  }
 ],
 "metadata": {
  "interpreter": {
   "hash": "6a4c8c1c3e5315735c64f2e463df52f93ec7bac23c7ea2a067534b2f555fbf5f"
  },
  "kernelspec": {
   "display_name": "Python 3 (ipykernel)",
   "language": "python",
   "name": "python3"
  },
  "language_info": {
   "codemirror_mode": {
    "name": "ipython",
    "version": 3
   },
   "file_extension": ".py",
   "mimetype": "text/x-python",
   "name": "python",
   "nbconvert_exporter": "python",
   "pygments_lexer": "ipython3",
   "version": "3.8.12"
  }
 },
 "nbformat": 4,
 "nbformat_minor": 5
}
